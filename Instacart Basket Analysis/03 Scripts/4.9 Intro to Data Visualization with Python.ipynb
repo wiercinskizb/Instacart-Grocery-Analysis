{
 "cells": [
  {
   "cell_type": "markdown",
   "id": "676b1251-310b-4541-9516-29fe7d870038",
   "metadata": {},
   "source": [
    "# 4.9: Intro to Data Visualization with Python"
   ]
  },
  {
   "cell_type": "code",
   "execution_count": 3,
   "id": "3f921f63-866e-48f0-959a-2aa0d44027c5",
   "metadata": {},
   "outputs": [],
   "source": [
    "# Import Libraries\n",
    "\n",
    "import pandas as pd\n",
    "import numpy as np\n",
    "import os\n",
    "import matplotlib.pyplot as plt\n",
    "import seaborn as sns\n",
    "import scipy"
   ]
  },
  {
   "cell_type": "code",
   "execution_count": 4,
   "id": "7ddbf531-f9e4-424b-83b2-95e4ce5d3979",
   "metadata": {},
   "outputs": [],
   "source": [
    "# Creating a path\n",
    "path = r'C:\\Users\\zwier\\anaconda_projects\\15-01-2025 Instacart Basket Analysis'"
   ]
  },
  {
   "cell_type": "code",
   "execution_count": 5,
   "id": "c19c500d-339c-4034-9dd6-83dfed08a601",
   "metadata": {},
   "outputs": [],
   "source": [
    "# importing df\n",
    "ords_prods_merge = pd.read_pickle(os.path.join(path, '02 Data', 'Prepared Data', 'ords_prods_merge4.8.pkl'))"
   ]
  },
  {
   "cell_type": "code",
   "execution_count": 6,
   "id": "9286cf27-f7d5-457b-a418-e44d223920d4",
   "metadata": {},
   "outputs": [
    {
     "data": {
      "text/html": [
       "<div>\n",
       "<style scoped>\n",
       "    .dataframe tbody tr th:only-of-type {\n",
       "        vertical-align: middle;\n",
       "    }\n",
       "\n",
       "    .dataframe tbody tr th {\n",
       "        vertical-align: top;\n",
       "    }\n",
       "\n",
       "    .dataframe thead th {\n",
       "        text-align: right;\n",
       "    }\n",
       "</style>\n",
       "<table border=\"1\" class=\"dataframe\">\n",
       "  <thead>\n",
       "    <tr style=\"text-align: right;\">\n",
       "      <th></th>\n",
       "      <th>order_id</th>\n",
       "      <th>user_id</th>\n",
       "      <th>order_number</th>\n",
       "      <th>orders_day_of_week</th>\n",
       "      <th>order_hour_of_day</th>\n",
       "      <th>days_since_prior_order</th>\n",
       "      <th>product_id</th>\n",
       "      <th>add_to_cart_order</th>\n",
       "      <th>reordered</th>\n",
       "      <th>product_name</th>\n",
       "      <th>...</th>\n",
       "      <th>_merge</th>\n",
       "      <th>busiest_day</th>\n",
       "      <th>Busiest days</th>\n",
       "      <th>busiest_period_of_day</th>\n",
       "      <th>max_order</th>\n",
       "      <th>loyalty_flag</th>\n",
       "      <th>mean_price</th>\n",
       "      <th>spending_flag</th>\n",
       "      <th>median_frequency</th>\n",
       "      <th>order_frequency_flag</th>\n",
       "    </tr>\n",
       "  </thead>\n",
       "  <tbody>\n",
       "    <tr>\n",
       "      <th>0</th>\n",
       "      <td>1107.0</td>\n",
       "      <td>38259.0</td>\n",
       "      <td>2.0</td>\n",
       "      <td>1.0</td>\n",
       "      <td>11.0</td>\n",
       "      <td>7.0</td>\n",
       "      <td>1.0</td>\n",
       "      <td>7.0</td>\n",
       "      <td>0.0</td>\n",
       "      <td>Chocolate Sandwich Cookies</td>\n",
       "      <td>...</td>\n",
       "      <td>both</td>\n",
       "      <td>Regularly busy</td>\n",
       "      <td>Busiest days</td>\n",
       "      <td>Most orders</td>\n",
       "      <td>5.0</td>\n",
       "      <td>New customer</td>\n",
       "      <td>7.163333</td>\n",
       "      <td>Low spender</td>\n",
       "      <td>7.0</td>\n",
       "      <td>Frequent customer</td>\n",
       "    </tr>\n",
       "    <tr>\n",
       "      <th>1</th>\n",
       "      <td>5319.0</td>\n",
       "      <td>196224.0</td>\n",
       "      <td>65.0</td>\n",
       "      <td>1.0</td>\n",
       "      <td>14.0</td>\n",
       "      <td>1.0</td>\n",
       "      <td>1.0</td>\n",
       "      <td>3.0</td>\n",
       "      <td>1.0</td>\n",
       "      <td>Chocolate Sandwich Cookies</td>\n",
       "      <td>...</td>\n",
       "      <td>both</td>\n",
       "      <td>Regularly busy</td>\n",
       "      <td>Busiest days</td>\n",
       "      <td>Most orders</td>\n",
       "      <td>100.0</td>\n",
       "      <td>Loyal customer</td>\n",
       "      <td>5.342729</td>\n",
       "      <td>Low spender</td>\n",
       "      <td>1.0</td>\n",
       "      <td>Frequent customer</td>\n",
       "    </tr>\n",
       "    <tr>\n",
       "      <th>2</th>\n",
       "      <td>7540.0</td>\n",
       "      <td>138499.0</td>\n",
       "      <td>8.0</td>\n",
       "      <td>0.0</td>\n",
       "      <td>14.0</td>\n",
       "      <td>7.0</td>\n",
       "      <td>1.0</td>\n",
       "      <td>4.0</td>\n",
       "      <td>1.0</td>\n",
       "      <td>Chocolate Sandwich Cookies</td>\n",
       "      <td>...</td>\n",
       "      <td>both</td>\n",
       "      <td>Busiest day</td>\n",
       "      <td>Busiest days</td>\n",
       "      <td>Most orders</td>\n",
       "      <td>24.0</td>\n",
       "      <td>Regular customer</td>\n",
       "      <td>7.469540</td>\n",
       "      <td>Low spender</td>\n",
       "      <td>7.0</td>\n",
       "      <td>Frequent customer</td>\n",
       "    </tr>\n",
       "    <tr>\n",
       "      <th>3</th>\n",
       "      <td>9228.0</td>\n",
       "      <td>79603.0</td>\n",
       "      <td>2.0</td>\n",
       "      <td>2.0</td>\n",
       "      <td>10.0</td>\n",
       "      <td>30.0</td>\n",
       "      <td>1.0</td>\n",
       "      <td>2.0</td>\n",
       "      <td>0.0</td>\n",
       "      <td>Chocolate Sandwich Cookies</td>\n",
       "      <td>...</td>\n",
       "      <td>both</td>\n",
       "      <td>Regularly busy</td>\n",
       "      <td>Regularly busy</td>\n",
       "      <td>Most orders</td>\n",
       "      <td>6.0</td>\n",
       "      <td>New customer</td>\n",
       "      <td>6.986207</td>\n",
       "      <td>Low spender</td>\n",
       "      <td>28.0</td>\n",
       "      <td>Non-frequent customer</td>\n",
       "    </tr>\n",
       "    <tr>\n",
       "      <th>4</th>\n",
       "      <td>9273.0</td>\n",
       "      <td>50005.0</td>\n",
       "      <td>1.0</td>\n",
       "      <td>1.0</td>\n",
       "      <td>15.0</td>\n",
       "      <td>0.0</td>\n",
       "      <td>1.0</td>\n",
       "      <td>30.0</td>\n",
       "      <td>0.0</td>\n",
       "      <td>Chocolate Sandwich Cookies</td>\n",
       "      <td>...</td>\n",
       "      <td>both</td>\n",
       "      <td>Regularly busy</td>\n",
       "      <td>Busiest days</td>\n",
       "      <td>Most orders</td>\n",
       "      <td>23.0</td>\n",
       "      <td>Regular customer</td>\n",
       "      <td>7.493154</td>\n",
       "      <td>Low spender</td>\n",
       "      <td>7.0</td>\n",
       "      <td>Frequent customer</td>\n",
       "    </tr>\n",
       "  </tbody>\n",
       "</table>\n",
       "<p>5 rows × 23 columns</p>\n",
       "</div>"
      ],
      "text/plain": [
       "   order_id   user_id  order_number  orders_day_of_week  order_hour_of_day  \\\n",
       "0    1107.0   38259.0           2.0                 1.0               11.0   \n",
       "1    5319.0  196224.0          65.0                 1.0               14.0   \n",
       "2    7540.0  138499.0           8.0                 0.0               14.0   \n",
       "3    9228.0   79603.0           2.0                 2.0               10.0   \n",
       "4    9273.0   50005.0           1.0                 1.0               15.0   \n",
       "\n",
       "   days_since_prior_order  product_id  add_to_cart_order  reordered  \\\n",
       "0                     7.0         1.0                7.0        0.0   \n",
       "1                     1.0         1.0                3.0        1.0   \n",
       "2                     7.0         1.0                4.0        1.0   \n",
       "3                    30.0         1.0                2.0        0.0   \n",
       "4                     0.0         1.0               30.0        0.0   \n",
       "\n",
       "                 product_name  ...  _merge     busiest_day    Busiest days  \\\n",
       "0  Chocolate Sandwich Cookies  ...    both  Regularly busy    Busiest days   \n",
       "1  Chocolate Sandwich Cookies  ...    both  Regularly busy    Busiest days   \n",
       "2  Chocolate Sandwich Cookies  ...    both     Busiest day    Busiest days   \n",
       "3  Chocolate Sandwich Cookies  ...    both  Regularly busy  Regularly busy   \n",
       "4  Chocolate Sandwich Cookies  ...    both  Regularly busy    Busiest days   \n",
       "\n",
       "  busiest_period_of_day max_order      loyalty_flag mean_price  spending_flag  \\\n",
       "0           Most orders       5.0      New customer   7.163333    Low spender   \n",
       "1           Most orders     100.0    Loyal customer   5.342729    Low spender   \n",
       "2           Most orders      24.0  Regular customer   7.469540    Low spender   \n",
       "3           Most orders       6.0      New customer   6.986207    Low spender   \n",
       "4           Most orders      23.0  Regular customer   7.493154    Low spender   \n",
       "\n",
       "  median_frequency   order_frequency_flag  \n",
       "0              7.0      Frequent customer  \n",
       "1              1.0      Frequent customer  \n",
       "2              7.0      Frequent customer  \n",
       "3             28.0  Non-frequent customer  \n",
       "4              7.0      Frequent customer  \n",
       "\n",
       "[5 rows x 23 columns]"
      ]
     },
     "execution_count": 6,
     "metadata": {},
     "output_type": "execute_result"
    }
   ],
   "source": [
    "# Checking df\n",
    "ords_prods_merge.head()"
   ]
  },
  {
   "cell_type": "markdown",
   "id": "079ccec1-168f-4b30-b569-9d03eb807f7a",
   "metadata": {},
   "source": [
    "# Creating Bar Charts"
   ]
  },
  {
   "cell_type": "code",
   "execution_count": 8,
   "id": "8ec11c5c-1d8b-4f2f-b6b2-36b934eb9dd4",
   "metadata": {},
   "outputs": [
    {
     "data": {
      "text/plain": [
       "<Axes: xlabel='orders_day_of_week'>"
      ]
     },
     "execution_count": 8,
     "metadata": {},
     "output_type": "execute_result"
    },
    {
     "data": {
      "image/png": "[encoded data removed]",
      "text/plain": [
       "<Figure size 640x480 with 1 Axes>"
      ]
     },
     "metadata": {},
     "output_type": "display_data"
    }
   ],
   "source": [
    "# Bar chart (default sort is largest to smallest)\n",
    "ords_prods_merge['orders_day_of_week'].value_counts().plot.bar()"
   ]
  },
  {
   "cell_type": "code",
   "execution_count": 9,
   "id": "9dcb7d32-f7ad-4702-b71f-f253c947d533",
   "metadata": {},
   "outputs": [
    {
     "data": {
      "text/plain": [
       "<Axes: xlabel='orders_day_of_week'>"
      ]
     },
     "execution_count": 9,
     "metadata": {},
     "output_type": "execute_result"
    },
    {
     "data": {
      "image/png": "[encoded data removed]",
      "text/plain": [
       "<Figure size 640x480 with 1 Axes>"
      ]
     },
     "metadata": {},
     "output_type": "display_data"
    }
   ],
   "source": [
    "# Sorted by Index (0-6) Bar chart\n",
    "ords_prods_merge['orders_day_of_week'].value_counts().sort_index().plot.bar()"
   ]
  },
  {
   "cell_type": "code",
   "execution_count": 10,
   "id": "e31c28b2-9768-4bed-b2eb-ec2d77524d32",
   "metadata": {},
   "outputs": [
    {
     "data": {
      "text/plain": [
       "orders_day_of_week\n",
       "0.0    6252941\n",
       "1.0    5696724\n",
       "2.0    4243173\n",
       "3.0    3868747\n",
       "4.0    3812390\n",
       "5.0    4236989\n",
       "6.0    4530304\n",
       "Name: count, dtype: int64"
      ]
     },
     "execution_count": 10,
     "metadata": {},
     "output_type": "execute_result"
    }
   ],
   "source": [
    "# Sorted by Index (0-6) \n",
    "ords_prods_merge['orders_day_of_week'].value_counts().sort_index()"
   ]
  },
  {
   "cell_type": "code",
   "execution_count": 11,
   "id": "6ea0dd09-dcd5-4bfa-8e32-5d0be4e9aaed",
   "metadata": {},
   "outputs": [
    {
     "data": {
      "text/plain": [
       "orders_day_of_week\n",
       "0.0    6252941\n",
       "1.0    5696724\n",
       "6.0    4530304\n",
       "2.0    4243173\n",
       "5.0    4236989\n",
       "3.0    3868747\n",
       "4.0    3812390\n",
       "Name: count, dtype: int64"
      ]
     },
     "execution_count": 11,
     "metadata": {},
     "output_type": "execute_result"
    }
   ],
   "source": [
    "# default sort is largest to smallest)\n",
    "ords_prods_merge['orders_day_of_week'].value_counts()"
   ]
  },
  {
   "cell_type": "code",
   "execution_count": 44,
   "id": "97ba91d4-5dfb-488a-aaa3-696195b41f0a",
   "metadata": {},
   "outputs": [
    {
     "data": {
      "image/png": "[encoded data removed]",
      "text/plain": [
       "<Figure size 640x480 with 1 Axes>"
      ]
     },
     "metadata": {},
     "output_type": "display_data"
    }
   ],
   "source": [
    "# Creating a Bar chart and adding Colors to the bar chart\n",
    "bar = ords_prods_merge['orders_day_of_week'].value_counts().sort_index().plot.bar(color =['purple', 'red', 'pink', 'orange', 'yellow', 'green', 'blue'])"
   ]
  },
  {
   "cell_type": "markdown",
   "id": "7ffe5c14-fe19-4e06-9dbe-c31f1d071e89",
   "metadata": {},
   "source": [
    "# Exporting Charts"
   ]
  },
  {
   "cell_type": "code",
   "execution_count": 14,
   "id": "2d685e55-87fd-41b7-a7bc-5cc5de8f5d08",
   "metadata": {},
   "outputs": [],
   "source": [
    "# Checking bar object\n",
    "# bar.figure"
   ]
  },
  {
   "cell_type": "code",
   "execution_count": 15,
   "id": "8d8e0cd1-230c-485c-a47c-e673f0bbe781",
   "metadata": {},
   "outputs": [],
   "source": [
    "# Exporting/Saving bar as aimage file\n",
    "# bar.figure.savefig(os.path.join(path, '04 Analysis','Visualizations', 'bar_orders_dow.png'))"
   ]
  },
  {
   "cell_type": "markdown",
   "id": "ecb6df3c-12f9-490f-8dc0-c2889b8d46ee",
   "metadata": {},
   "source": [
    "# Creating Histograms and Scatterplots"
   ]
  },
  {
   "cell_type": "markdown",
   "id": "baf70daf-8171-44f6-9c2b-c6e0475ecc60",
   "metadata": {},
   "source": [
    "### Histograms"
   ]
  },
  {
   "cell_type": "code",
   "execution_count": 48,
   "id": "ccec612a-b42d-40bf-ae7a-14ea67264656",
   "metadata": {},
   "outputs": [
    {
     "data": {
      "image/png": "[encoded data removed]",
      "text/plain": [
       "<Figure size 640x480 with 1 Axes>"
      ]
     },
     "metadata": {},
     "output_type": "display_data"
    }
   ],
   "source": [
    "h1 = ords_prods_merge['prices'].plot.hist(bins = 25) # Creating h1 histogram\n",
    "# h1.figure # Checking figure\n",
    "# h1.figure.savefig(os.path.join(path, '04 Analysis','Visualizations', 'h1.png')) # Exporting h1 figure to an image"
   ]
  },
  {
   "cell_type": "markdown",
   "id": "a773157a-a55f-4420-8b58-2b65ae877bc1",
   "metadata": {},
   "source": [
    "#### Something is super wrong"
   ]
  },
  {
   "cell_type": "code",
   "execution_count": 20,
   "id": "d38e3fcd-c01f-4e43-bc8c-4f8289051e1c",
   "metadata": {},
   "outputs": [],
   "source": [
    "# Exporting/Saving Histogram as aimage file\n",
    "# bar.figure.savefig(os.path.join(path, '04 Analysis','Visualizations', 'bar_orders_dow.png'))"
   ]
  },
  {
   "cell_type": "code",
   "execution_count": 21,
   "id": "2b16b11a-4da7-483f-8af2-125accf164e2",
   "metadata": {},
   "outputs": [
    {
     "data": {
      "text/plain": [
       "count    32404870.00\n",
       "mean           11.98\n",
       "std           495.66\n",
       "min             1.00\n",
       "25%             4.20\n",
       "50%             7.40\n",
       "75%            11.30\n",
       "max         99999.00\n",
       "Name: prices, dtype: float64"
      ]
     },
     "execution_count": 21,
     "metadata": {},
     "output_type": "execute_result"
    }
   ],
   "source": [
    "# Lets check the max\n",
    "ords_prods_merge['prices'].describe().round(2)"
   ]
  },
  {
   "cell_type": "code",
   "execution_count": 22,
   "id": "5687804a-d71b-4f2c-bfce-592fba141a2e",
   "metadata": {},
   "outputs": [
    {
     "data": {
      "text/plain": [
       "prices\n",
       "99999.0       698\n",
       "14900.0      4429\n",
       "25.0        13772\n",
       "24.9         5781\n",
       "24.8          410\n",
       "            ...  \n",
       "1.4        392209\n",
       "1.3        425691\n",
       "1.2        256258\n",
       "1.1        242782\n",
       "1.0        115143\n",
       "Name: count, Length: 242, dtype: int64"
      ]
     },
     "execution_count": 22,
     "metadata": {},
     "output_type": "execute_result"
    }
   ],
   "source": [
    "# Lets dort with 'prices' index largest to smallest)\n",
    "ords_prods_merge['prices'].value_counts().sort_index(ascending=False).round(2)"
   ]
  },
  {
   "cell_type": "markdown",
   "id": "c760280d-3482-4452-bf07-e31291e4c65a",
   "metadata": {},
   "source": [
    "### Scatterplot\n",
    "#### Scatterplots are created by way of the scatterplot() function, which is included in the seaborn library (imported into your notebook as sns)."
   ]
  },
  {
   "cell_type": "code",
   "execution_count": 24,
   "id": "6c620437-d6a0-4b8f-8020-8fb7cd35301b",
   "metadata": {},
   "outputs": [],
   "source": [
    "# sns.scatterplot(x = 'prices', y = 'prices',data = ords_prods_merge)"
   ]
  },
  {
   "cell_type": "code",
   "execution_count": 50,
   "id": "3112771d-4216-4320-bf15-a0a24a818b73",
   "metadata": {},
   "outputs": [
    {
     "data": {
      "image/png": "[encoded data removed]",
      "text/plain": [
       "<Figure size 640x480 with 1 Axes>"
      ]
     },
     "metadata": {},
     "output_type": "display_data"
    }
   ],
   "source": [
    "s1 = sns.scatterplot(x = 'prices', y = 'prices',data = ords_prods_merge) # Creating s1 histogram\n",
    "# s1.figure # Checking figure\n",
    "# s1.figure.savefig(os.path.join(path, '04 Analysis','Visualizations', 's1.png')) # Exporting s1 figure to an image"
   ]
  },
  {
   "cell_type": "code",
   "execution_count": 58,
   "id": "f51451ed-d0e3-481e-b29f-4f15b83a519d",
   "metadata": {},
   "outputs": [
    {
     "data": {
      "text/html": [
       "<div>\n",
       "<style scoped>\n",
       "    .dataframe tbody tr th:only-of-type {\n",
       "        vertical-align: middle;\n",
       "    }\n",
       "\n",
       "    .dataframe tbody tr th {\n",
       "        vertical-align: top;\n",
       "    }\n",
       "\n",
       "    .dataframe thead th {\n",
       "        text-align: right;\n",
       "    }\n",
       "</style>\n",
       "<table border=\"1\" class=\"dataframe\">\n",
       "  <thead>\n",
       "    <tr style=\"text-align: right;\">\n",
       "      <th></th>\n",
       "      <th>order_id</th>\n",
       "      <th>product_name</th>\n",
       "      <th>prices</th>\n",
       "    </tr>\n",
       "  </thead>\n",
       "  <tbody>\n",
       "    <tr>\n",
       "      <th>21817068</th>\n",
       "      <td>3421047.0</td>\n",
       "      <td>2 % Reduced Fat  Milk</td>\n",
       "      <td>99999.0</td>\n",
       "    </tr>\n",
       "    <tr>\n",
       "      <th>21816600</th>\n",
       "      <td>1050901.0</td>\n",
       "      <td>2 % Reduced Fat  Milk</td>\n",
       "      <td>99999.0</td>\n",
       "    </tr>\n",
       "    <tr>\n",
       "      <th>21816608</th>\n",
       "      <td>1095121.0</td>\n",
       "      <td>2 % Reduced Fat  Milk</td>\n",
       "      <td>99999.0</td>\n",
       "    </tr>\n",
       "    <tr>\n",
       "      <th>21816607</th>\n",
       "      <td>1078636.0</td>\n",
       "      <td>2 % Reduced Fat  Milk</td>\n",
       "      <td>99999.0</td>\n",
       "    </tr>\n",
       "    <tr>\n",
       "      <th>21816606</th>\n",
       "      <td>1077441.0</td>\n",
       "      <td>2 % Reduced Fat  Milk</td>\n",
       "      <td>99999.0</td>\n",
       "    </tr>\n",
       "    <tr>\n",
       "      <th>...</th>\n",
       "      <td>...</td>\n",
       "      <td>...</td>\n",
       "      <td>...</td>\n",
       "    </tr>\n",
       "    <tr>\n",
       "      <th>13131990</th>\n",
       "      <td>1326429.0</td>\n",
       "      <td>Lowfat 2% Milkfat Cottage Cheese</td>\n",
       "      <td>14900.0</td>\n",
       "    </tr>\n",
       "    <tr>\n",
       "      <th>13131989</th>\n",
       "      <td>1325786.0</td>\n",
       "      <td>Lowfat 2% Milkfat Cottage Cheese</td>\n",
       "      <td>14900.0</td>\n",
       "    </tr>\n",
       "    <tr>\n",
       "      <th>13131988</th>\n",
       "      <td>1325472.0</td>\n",
       "      <td>Lowfat 2% Milkfat Cottage Cheese</td>\n",
       "      <td>14900.0</td>\n",
       "    </tr>\n",
       "    <tr>\n",
       "      <th>13131987</th>\n",
       "      <td>1324517.0</td>\n",
       "      <td>Lowfat 2% Milkfat Cottage Cheese</td>\n",
       "      <td>14900.0</td>\n",
       "    </tr>\n",
       "    <tr>\n",
       "      <th>13132845</th>\n",
       "      <td>1964981.0</td>\n",
       "      <td>Lowfat 2% Milkfat Cottage Cheese</td>\n",
       "      <td>14900.0</td>\n",
       "    </tr>\n",
       "  </tbody>\n",
       "</table>\n",
       "<p>5127 rows × 3 columns</p>\n",
       "</div>"
      ],
      "text/plain": [
       "           order_id                      product_name   prices\n",
       "21817068  3421047.0             2 % Reduced Fat  Milk  99999.0\n",
       "21816600  1050901.0             2 % Reduced Fat  Milk  99999.0\n",
       "21816608  1095121.0             2 % Reduced Fat  Milk  99999.0\n",
       "21816607  1078636.0             2 % Reduced Fat  Milk  99999.0\n",
       "21816606  1077441.0             2 % Reduced Fat  Milk  99999.0\n",
       "...             ...                               ...      ...\n",
       "13131990  1326429.0  Lowfat 2% Milkfat Cottage Cheese  14900.0\n",
       "13131989  1325786.0  Lowfat 2% Milkfat Cottage Cheese  14900.0\n",
       "13131988  1325472.0  Lowfat 2% Milkfat Cottage Cheese  14900.0\n",
       "13131987  1324517.0  Lowfat 2% Milkfat Cottage Cheese  14900.0\n",
       "13132845  1964981.0  Lowfat 2% Milkfat Cottage Cheese  14900.0\n",
       "\n",
       "[5127 rows x 3 columns]"
      ]
     },
     "execution_count": 58,
     "metadata": {},
     "output_type": "execute_result"
    }
   ],
   "source": [
    "# Lets check for outliers > 100\n",
    "ords_prods_merge.loc[ords_prods_merge['prices'] > 100, ['order_id', 'product_name', 'prices']] \\\n",
    "    .sort_values(by='prices', ascending=False) \\\n",
    "    .round(2)"
   ]
  },
  {
   "cell_type": "code",
   "execution_count": 60,
   "id": "3694b192-f380-4cdc-82d6-6c3703b82804",
   "metadata": {},
   "outputs": [],
   "source": [
    "# Lets change those those 100+ to Nan\n",
    "ords_prods_merge.loc[ords_prods_merge['prices'] >100, 'prices'] = np.nan"
   ]
  },
  {
   "cell_type": "code",
   "execution_count": 62,
   "id": "dfc94f95-8a2a-4ab0-9703-836725d38736",
   "metadata": {},
   "outputs": [
    {
     "data": {
      "text/plain": [
       "25.0"
      ]
     },
     "execution_count": 62,
     "metadata": {},
     "output_type": "execute_result"
    }
   ],
   "source": [
    "# checking results looking for column max - amount higher than 100 should not exist now\n",
    "ords_prods_merge['prices'].max()"
   ]
  },
  {
   "cell_type": "code",
   "execution_count": 64,
   "id": "43081acd-9053-4e5d-9504-b14a89326134",
   "metadata": {},
   "outputs": [
    {
     "data": {
      "image/png": "[encoded data removed]",
      "text/plain": [
       "<Figure size 640x480 with 1 Axes>"
      ]
     },
     "metadata": {},
     "output_type": "display_data"
    }
   ],
   "source": [
    "# cheking updated histogram after adhoc cleaning\n",
    "hist = ords_prods_merge['prices'].plot.hist(bins = 25)"
   ]
  },
  {
   "cell_type": "code",
   "execution_count": 74,
   "id": "9c0124f7-76b2-4d36-89bc-c35b84ee1d2d",
   "metadata": {},
   "outputs": [],
   "source": [
    "# hist.figure.savefig(os.path.join(path, '04 Analysis','Visualizations', 'hist.png')) # Exporting hist figure to an image"
   ]
  },
  {
   "cell_type": "code",
   "execution_count": 68,
   "id": "0661666e-9faf-4592-9416-053d96dc6057",
   "metadata": {},
   "outputs": [
    {
     "data": {
      "image/png": "[encoded data removed]",
      "text/plain": [
       "<Figure size 640x480 with 1 Axes>"
      ]
     },
     "metadata": {},
     "output_type": "display_data"
    }
   ],
   "source": [
    "# cheking updated histogram after adhoc cleaning 70 bins \n",
    "hist_2 = ords_prods_merge['prices'].plot.hist(bins = 70)"
   ]
  },
  {
   "cell_type": "code",
   "execution_count": 72,
   "id": "c1a2e525-b1e1-4f0f-8b73-c80e5e7e55c4",
   "metadata": {},
   "outputs": [],
   "source": [
    "# hist_2.figure.savefig(os.path.join(path, '04 Analysis','Visualizations', 'hist_2.png')) # Exporting hist_2 figure to an image"
   ]
  },
  {
   "cell_type": "markdown",
   "id": "78e1cc66-cf0c-4c3e-bd8a-f3e542e69372",
   "metadata": {},
   "source": [
    "# Creating Line Charts"
   ]
  },
  {
   "cell_type": "markdown",
   "id": "dc1e860c-831d-45e5-9062-6e44bda6e324",
   "metadata": {},
   "source": [
    "# Sampling Data"
   ]
  },
  {
   "cell_type": "code",
   "execution_count": 79,
   "id": "50327569-bcde-43a7-84d9-a677094a7784",
   "metadata": {},
   "outputs": [],
   "source": [
    "# Create a list holding True/False values to the test 70/30 split\n",
    "np.random.seed(4)\n",
    "dev = np.random.rand(len(ords_prods_merge)) <= 0.7"
   ]
  },
  {
   "cell_type": "code",
   "execution_count": 83,
   "id": "0913fc4d-efe5-4a7c-9fec-a19523ba085a",
   "metadata": {},
   "outputs": [
    {
     "data": {
      "text/plain": [
       "array([False,  True, False, ...,  True,  True,  True])"
      ]
     },
     "execution_count": 83,
     "metadata": {},
     "output_type": "execute_result"
    }
   ],
   "source": [
    "# that stores our boolean values \n",
    "dev"
   ]
  },
  {
   "cell_type": "code",
   "execution_count": 87,
   "id": "a16c13f3-e33f-4205-a065-788e44b14dcf",
   "metadata": {},
   "outputs": [
    {
     "data": {
      "text/plain": [
       "array([0.43335341, 0.22798136, 0.06987349, 0.0479021 , 0.2242669 ,\n",
       "       0.13182308, 0.20326324, 0.75321347, 0.94710635, 0.50484646])"
      ]
     },
     "execution_count": 87,
     "metadata": {},
     "output_type": "execute_result"
    }
   ],
   "source": [
    "# example\n",
    "np.random.rand(10)"
   ]
  },
  {
   "cell_type": "code",
   "execution_count": 93,
   "id": "933b3767-8d15-4c0b-b802-d0ce8a8eb70b",
   "metadata": {},
   "outputs": [],
   "source": [
    "# Store 70% of the sample in the dataframe big\n",
    "big = ords_prods_merge[dev]"
   ]
  },
  {
   "cell_type": "code",
   "execution_count": 95,
   "id": "4ac6e6aa-a32c-41a3-8484-2e9129b608ea",
   "metadata": {},
   "outputs": [],
   "source": [
    "# Store 30% of the sample in the dataframe small\n",
    "small = ords_prods_merge[~dev]"
   ]
  },
  {
   "cell_type": "code",
   "execution_count": 101,
   "id": "ab876522-6530-4009-98eb-fb11c82a4c66",
   "metadata": {},
   "outputs": [
    {
     "data": {
      "text/plain": [
       "32641279"
      ]
     },
     "execution_count": 101,
     "metadata": {},
     "output_type": "execute_result"
    }
   ],
   "source": [
    "# Checking lines\n",
    "len(ords_prods_merge)"
   ]
  },
  {
   "cell_type": "code",
   "execution_count": 103,
   "id": "342b2c5c-7669-46ff-b966-29739f39f6bd",
   "metadata": {},
   "outputs": [
    {
     "data": {
      "text/plain": [
       "32641279"
      ]
     },
     "execution_count": 103,
     "metadata": {},
     "output_type": "execute_result"
    }
   ],
   "source": [
    "# Checking lines\n",
    "len(big)+len(small)"
   ]
  },
  {
   "cell_type": "code",
   "execution_count": 105,
   "id": "acd3ea09-4aa2-470d-9284-eae6e496ef4c",
   "metadata": {},
   "outputs": [],
   "source": [
    "# lets reduce dataframe to have only colums that we need\n",
    "df_2 = small[['orders_day_of_week','prices']]"
   ]
  },
  {
   "cell_type": "code",
   "execution_count": 107,
   "id": "6995f067-0db7-48e9-8c4d-6682d5771bec",
   "metadata": {},
   "outputs": [
    {
     "data": {
      "image/png": "[encoded data removed]",
      "text/plain": [
       "<Figure size 640x480 with 1 Axes>"
      ]
     },
     "metadata": {},
     "output_type": "display_data"
    }
   ],
   "source": [
    "# GO with the chart\n",
    "# line = sns.lineplot(data = df_2, x = 'orders_day_of_week',y = 'prices')"
   ]
  },
  {
   "cell_type": "code",
   "execution_count": 111,
   "id": "fe704d27-6510-4c42-8e05-0563ea17b1b1",
   "metadata": {},
   "outputs": [],
   "source": [
    "# Exporting line figure to an image\n",
    "# line.figure.savefig(os.path.join(path, '04 Analysis','Visualizations', 'line.png'))"
   ]
  },
  {
   "cell_type": "code",
   "execution_count": 115,
   "id": "77ffceba-5cc2-4ff7-8d0d-865c352afb8c",
   "metadata": {},
   "outputs": [],
   "source": [
    "# lets reduce dataframe to have only colums that we need BIG\n",
    "df_3 = big[['orders_day_of_week','prices']]"
   ]
  },
  {
   "cell_type": "code",
   "execution_count": 119,
   "id": "ae98592f-04bb-453f-9ffc-07a9b812bdf7",
   "metadata": {},
   "outputs": [
    {
     "data": {
      "image/png": "[encoded data removed]",
      "text/plain": [
       "<Figure size 640x480 with 1 Axes>"
      ]
     },
     "metadata": {},
     "output_type": "display_data"
    }
   ],
   "source": [
    "# GO with the chart BIG\n",
    "# line2 = sns.lineplot(data = df_3, x = 'orders_day_of_week',y = 'prices')"
   ]
  },
  {
   "cell_type": "code",
   "execution_count": 121,
   "id": "ca25c75f-88a7-48de-a7c2-585797215871",
   "metadata": {},
   "outputs": [],
   "source": [
    "# Exporting line figure to an image\n",
    "line2.figure.savefig(os.path.join(path, '04 Analysis','Visualizations', 'line2.png'))"
   ]
  },
  {
   "cell_type": "code",
   "execution_count": null,
   "id": "1ef783af-e2c1-4419-9850-b72e4a1e5cb4",
   "metadata": {},
   "outputs": [],
   "source": []
  },
  {
   "cell_type": "code",
   "execution_count": null,
   "id": "96fce0c2-bdf9-4f37-8e1e-0f255155615f",
   "metadata": {},
   "outputs": [],
   "source": []
  }
 ],
 "metadata": {
  "kernelspec": {
   "display_name": "Python [conda env:base] *",
   "language": "python",
   "name": "conda-base-py"
  },
  "language_info": {
   "codemirror_mode": {
    "name": "ipython",
    "version": 3
   },
   "file_extension": ".py",
   "mimetype": "text/x-python",
   "name": "python",
   "nbconvert_exporter": "python",
   "pygments_lexer": "ipython3",
   "version": "3.12.7"
  }
 },
 "nbformat": 4,
 "nbformat_minor": 5
}
