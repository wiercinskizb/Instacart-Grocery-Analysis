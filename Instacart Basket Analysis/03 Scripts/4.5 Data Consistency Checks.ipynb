{
 "cells": [
  {
   "cell_type": "markdown",
   "id": "429f5da6-def2-44c0-85c4-d3f949160836",
   "metadata": {},
   "source": [
    "# Basic Setup: Libraries + files"
   ]
  },
  {
   "cell_type": "code",
   "execution_count": 30,
   "id": "35cf385b-dea2-4d4c-ace5-fd9d5e913b29",
   "metadata": {},
   "outputs": [],
   "source": [
    "# Import libraries\n",
    "import pandas as pd\n",
    "import numpy as np\n",
    "import os"
   ]
  },
  {
   "cell_type": "code",
   "execution_count": 31,
   "id": "0164c2d5-b6d1-4ffb-97cf-93257f465278",
   "metadata": {},
   "outputs": [],
   "source": [
    "# Creating a path\n",
    "path = r'C:\\Users\\zwier\\anaconda_projects\\15-01-2025 Instacart Basket Analysis'"
   ]
  },
  {
   "cell_type": "code",
   "execution_count": 32,
   "id": "7536b448-3300-46c1-a2d5-c74b37605500",
   "metadata": {},
   "outputs": [],
   "source": [
    "# importing df_prods with os.path.join\n",
    "df_prods = pd.read_csv(os.path.join(path, '02 Data', 'Original Data', 'products.csv'), index_col = False)"
   ]
  },
  {
   "cell_type": "code",
   "execution_count": 33,
   "id": "25ae614a-e5f9-4e17-bce9-758741b8eaea",
   "metadata": {},
   "outputs": [],
   "source": [
    "# importing df_prods with os.path.join\n",
    "df_ords = pd.read_csv(os.path.join(path, '02 Data', 'Prepared Data', 'orders_wrangled.csv'), index_col = False)"
   ]
  },
  {
   "cell_type": "markdown",
   "id": "c1a8bff3-cb53-4918-b269-3cb03e2238a8",
   "metadata": {},
   "source": [
    "# Data Consistency Checks"
   ]
  },
  {
   "cell_type": "code",
   "execution_count": 35,
   "id": "d6062836-fb3d-4ccf-9602-603e6606d8aa",
   "metadata": {},
   "outputs": [
    {
     "data": {
      "text/html": [
       "<div>\n",
       "<style scoped>\n",
       "    .dataframe tbody tr th:only-of-type {\n",
       "        vertical-align: middle;\n",
       "    }\n",
       "\n",
       "    .dataframe tbody tr th {\n",
       "        vertical-align: top;\n",
       "    }\n",
       "\n",
       "    .dataframe thead th {\n",
       "        text-align: right;\n",
       "    }\n",
       "</style>\n",
       "<table border=\"1\" class=\"dataframe\">\n",
       "  <thead>\n",
       "    <tr style=\"text-align: right;\">\n",
       "      <th></th>\n",
       "      <th>Unnamed: 0</th>\n",
       "      <th>order_id</th>\n",
       "      <th>user_id</th>\n",
       "      <th>order_number</th>\n",
       "      <th>orders_day_of_week</th>\n",
       "      <th>order_hour_of_day</th>\n",
       "      <th>days_since_prior_order</th>\n",
       "    </tr>\n",
       "  </thead>\n",
       "  <tbody>\n",
       "    <tr>\n",
       "      <th>count</th>\n",
       "      <td>3.421083e+06</td>\n",
       "      <td>3.421083e+06</td>\n",
       "      <td>3.421083e+06</td>\n",
       "      <td>3.421083e+06</td>\n",
       "      <td>3.421083e+06</td>\n",
       "      <td>3.421083e+06</td>\n",
       "      <td>3.214874e+06</td>\n",
       "    </tr>\n",
       "    <tr>\n",
       "      <th>mean</th>\n",
       "      <td>1.710541e+06</td>\n",
       "      <td>1.710542e+06</td>\n",
       "      <td>1.029782e+05</td>\n",
       "      <td>1.715486e+01</td>\n",
       "      <td>2.776219e+00</td>\n",
       "      <td>1.345202e+01</td>\n",
       "      <td>1.111484e+01</td>\n",
       "    </tr>\n",
       "    <tr>\n",
       "      <th>std</th>\n",
       "      <td>9.875817e+05</td>\n",
       "      <td>9.875817e+05</td>\n",
       "      <td>5.953372e+04</td>\n",
       "      <td>1.773316e+01</td>\n",
       "      <td>2.046829e+00</td>\n",
       "      <td>4.226088e+00</td>\n",
       "      <td>9.206737e+00</td>\n",
       "    </tr>\n",
       "    <tr>\n",
       "      <th>min</th>\n",
       "      <td>0.000000e+00</td>\n",
       "      <td>1.000000e+00</td>\n",
       "      <td>1.000000e+00</td>\n",
       "      <td>1.000000e+00</td>\n",
       "      <td>0.000000e+00</td>\n",
       "      <td>0.000000e+00</td>\n",
       "      <td>0.000000e+00</td>\n",
       "    </tr>\n",
       "    <tr>\n",
       "      <th>25%</th>\n",
       "      <td>8.552705e+05</td>\n",
       "      <td>8.552715e+05</td>\n",
       "      <td>5.139400e+04</td>\n",
       "      <td>5.000000e+00</td>\n",
       "      <td>1.000000e+00</td>\n",
       "      <td>1.000000e+01</td>\n",
       "      <td>4.000000e+00</td>\n",
       "    </tr>\n",
       "    <tr>\n",
       "      <th>50%</th>\n",
       "      <td>1.710541e+06</td>\n",
       "      <td>1.710542e+06</td>\n",
       "      <td>1.026890e+05</td>\n",
       "      <td>1.100000e+01</td>\n",
       "      <td>3.000000e+00</td>\n",
       "      <td>1.300000e+01</td>\n",
       "      <td>7.000000e+00</td>\n",
       "    </tr>\n",
       "    <tr>\n",
       "      <th>75%</th>\n",
       "      <td>2.565812e+06</td>\n",
       "      <td>2.565812e+06</td>\n",
       "      <td>1.543850e+05</td>\n",
       "      <td>2.300000e+01</td>\n",
       "      <td>5.000000e+00</td>\n",
       "      <td>1.600000e+01</td>\n",
       "      <td>1.500000e+01</td>\n",
       "    </tr>\n",
       "    <tr>\n",
       "      <th>max</th>\n",
       "      <td>3.421082e+06</td>\n",
       "      <td>3.421083e+06</td>\n",
       "      <td>2.062090e+05</td>\n",
       "      <td>1.000000e+02</td>\n",
       "      <td>6.000000e+00</td>\n",
       "      <td>2.300000e+01</td>\n",
       "      <td>3.000000e+01</td>\n",
       "    </tr>\n",
       "  </tbody>\n",
       "</table>\n",
       "</div>"
      ],
      "text/plain": [
       "         Unnamed: 0      order_id       user_id  order_number  \\\n",
       "count  3.421083e+06  3.421083e+06  3.421083e+06  3.421083e+06   \n",
       "mean   1.710541e+06  1.710542e+06  1.029782e+05  1.715486e+01   \n",
       "std    9.875817e+05  9.875817e+05  5.953372e+04  1.773316e+01   \n",
       "min    0.000000e+00  1.000000e+00  1.000000e+00  1.000000e+00   \n",
       "25%    8.552705e+05  8.552715e+05  5.139400e+04  5.000000e+00   \n",
       "50%    1.710541e+06  1.710542e+06  1.026890e+05  1.100000e+01   \n",
       "75%    2.565812e+06  2.565812e+06  1.543850e+05  2.300000e+01   \n",
       "max    3.421082e+06  3.421083e+06  2.062090e+05  1.000000e+02   \n",
       "\n",
       "       orders_day_of_week  order_hour_of_day  days_since_prior_order  \n",
       "count        3.421083e+06       3.421083e+06            3.214874e+06  \n",
       "mean         2.776219e+00       1.345202e+01            1.111484e+01  \n",
       "std          2.046829e+00       4.226088e+00            9.206737e+00  \n",
       "min          0.000000e+00       0.000000e+00            0.000000e+00  \n",
       "25%          1.000000e+00       1.000000e+01            4.000000e+00  \n",
       "50%          3.000000e+00       1.300000e+01            7.000000e+00  \n",
       "75%          5.000000e+00       1.600000e+01            1.500000e+01  \n",
       "max          6.000000e+00       2.300000e+01            3.000000e+01  "
      ]
     },
     "execution_count": 35,
     "metadata": {},
     "output_type": "execute_result"
    }
   ],
   "source": [
    "# descriptive analysis\n",
    "df_ords.describe()"
   ]
  },
  {
   "cell_type": "markdown",
   "id": "f2b78400-3ae5-4379-ae25-6f777b3cb8ee",
   "metadata": {},
   "source": [
    "# Mixed-Type Data# Mixed-Type Data"
   ]
  },
  {
   "cell_type": "markdown",
   "id": "6e2946ba-15de-41c4-b23c-1a2514a964f4",
   "metadata": {},
   "source": [
    "# Create a dataframe"
   ]
  },
  {
   "cell_type": "code",
   "execution_count": 37,
   "id": "d02b4dc1-e3fb-47e7-967e-641db4e909da",
   "metadata": {},
   "outputs": [],
   "source": [
    "# Create a dataframe\n",
    "df_test = pd.DataFrame()"
   ]
  },
  {
   "cell_type": "code",
   "execution_count": 38,
   "id": "0800dd94-f9b0-4e11-85a7-c22b71a9cc36",
   "metadata": {},
   "outputs": [],
   "source": [
    "# Create a mixed type column\n",
    "df_test['mix'] = ['a', 'b', 1, True]"
   ]
  },
  {
   "cell_type": "code",
   "execution_count": 52,
   "id": "44f0fcf7-988c-485a-8736-821d3378f49e",
   "metadata": {},
   "outputs": [
    {
     "data": {
      "text/html": [
       "<div>\n",
       "<style scoped>\n",
       "    .dataframe tbody tr th:only-of-type {\n",
       "        vertical-align: middle;\n",
       "    }\n",
       "\n",
       "    .dataframe tbody tr th {\n",
       "        vertical-align: top;\n",
       "    }\n",
       "\n",
       "    .dataframe thead th {\n",
       "        text-align: right;\n",
       "    }\n",
       "</style>\n",
       "<table border=\"1\" class=\"dataframe\">\n",
       "  <thead>\n",
       "    <tr style=\"text-align: right;\">\n",
       "      <th></th>\n",
       "      <th>mix</th>\n",
       "    </tr>\n",
       "  </thead>\n",
       "  <tbody>\n",
       "    <tr>\n",
       "      <th>0</th>\n",
       "      <td>a</td>\n",
       "    </tr>\n",
       "    <tr>\n",
       "      <th>1</th>\n",
       "      <td>b</td>\n",
       "    </tr>\n",
       "    <tr>\n",
       "      <th>2</th>\n",
       "      <td>1</td>\n",
       "    </tr>\n",
       "    <tr>\n",
       "      <th>3</th>\n",
       "      <td>True</td>\n",
       "    </tr>\n",
       "  </tbody>\n",
       "</table>\n",
       "</div>"
      ],
      "text/plain": [
       "    mix\n",
       "0     a\n",
       "1     b\n",
       "2     1\n",
       "3  True"
      ]
     },
     "execution_count": 52,
     "metadata": {},
     "output_type": "execute_result"
    }
   ],
   "source": [
    "# Checking results\n",
    "df_test"
   ]
  },
  {
   "cell_type": "code",
   "execution_count": 60,
   "id": "5c073b36-e303-40c4-bb1b-9fa87942f205",
   "metadata": {},
   "outputs": [
    {
     "name": "stdout",
     "output_type": "stream",
     "text": [
      "mix\n"
     ]
    },
    {
     "name": "stderr",
     "output_type": "stream",
     "text": [
      "C:\\Users\\zwier\\AppData\\Local\\Temp\\ipykernel_12972\\1522843687.py:4: FutureWarning: DataFrame.applymap has been deprecated. Use DataFrame.map instead.\n",
      "  weird = (df_test[[col]].applymap(type) != df_test[[col]].iloc[0].apply(type)).any(axis = 1)\n"
     ]
    }
   ],
   "source": [
    "# Check for mixed types\n",
    "\n",
    "for col in df_test.columns.tolist():\n",
    "  weird = (df_test[[col]].applymap(type) != df_test[[col]].iloc[0].apply(type)).any(axis = 1)\n",
    "  if len (df_test[weird]) > 0:\n",
    "    print (col)"
   ]
  },
  {
   "cell_type": "code",
   "execution_count": 62,
   "id": "e01c94cc-587d-41c0-93f1-afb3dbf3f7d9",
   "metadata": {},
   "outputs": [],
   "source": [
    "# Changing data type to string\n",
    "df_test['mix'] = df_test['mix'].astype('str')"
   ]
  },
  {
   "cell_type": "code",
   "execution_count": 64,
   "id": "ca67a7fc-8a7d-4f08-af98-f3dbc96d9c0e",
   "metadata": {},
   "outputs": [
    {
     "data": {
      "text/html": [
       "<div>\n",
       "<style scoped>\n",
       "    .dataframe tbody tr th:only-of-type {\n",
       "        vertical-align: middle;\n",
       "    }\n",
       "\n",
       "    .dataframe tbody tr th {\n",
       "        vertical-align: top;\n",
       "    }\n",
       "\n",
       "    .dataframe thead th {\n",
       "        text-align: right;\n",
       "    }\n",
       "</style>\n",
       "<table border=\"1\" class=\"dataframe\">\n",
       "  <thead>\n",
       "    <tr style=\"text-align: right;\">\n",
       "      <th></th>\n",
       "      <th>mix</th>\n",
       "    </tr>\n",
       "  </thead>\n",
       "  <tbody>\n",
       "    <tr>\n",
       "      <th>0</th>\n",
       "      <td>a</td>\n",
       "    </tr>\n",
       "    <tr>\n",
       "      <th>1</th>\n",
       "      <td>b</td>\n",
       "    </tr>\n",
       "    <tr>\n",
       "      <th>2</th>\n",
       "      <td>1</td>\n",
       "    </tr>\n",
       "    <tr>\n",
       "      <th>3</th>\n",
       "      <td>True</td>\n",
       "    </tr>\n",
       "  </tbody>\n",
       "</table>\n",
       "</div>"
      ],
      "text/plain": [
       "    mix\n",
       "0     a\n",
       "1     b\n",
       "2     1\n",
       "3  True"
      ]
     },
     "execution_count": 64,
     "metadata": {},
     "output_type": "execute_result"
    }
   ],
   "source": [
    "# Checking results\n",
    "df_test"
   ]
  },
  {
   "cell_type": "markdown",
   "id": "62d08deb-8b3b-4b81-9284-a3c240e0161d",
   "metadata": {},
   "source": [
    "# Check for mixed types"
   ]
  },
  {
   "cell_type": "code",
   "execution_count": 66,
   "id": "41bb44d0-9a17-48aa-9077-148fc9c7fb22",
   "metadata": {},
   "outputs": [
    {
     "name": "stderr",
     "output_type": "stream",
     "text": [
      "C:\\Users\\zwier\\AppData\\Local\\Temp\\ipykernel_12972\\1522843687.py:4: FutureWarning: DataFrame.applymap has been deprecated. Use DataFrame.map instead.\n",
      "  weird = (df_test[[col]].applymap(type) != df_test[[col]].iloc[0].apply(type)).any(axis = 1)\n"
     ]
    }
   ],
   "source": [
    "# Check for mixed types\n",
    "\n",
    "for col in df_test.columns.tolist():\n",
    "  weird = (df_test[[col]].applymap(type) != df_test[[col]].iloc[0].apply(type)).any(axis = 1)\n",
    "  if len (df_test[weird]) > 0:\n",
    "    print (col)"
   ]
  },
  {
   "cell_type": "markdown",
   "id": "39f69946-be88-45a9-9764-9d25446ae726",
   "metadata": {},
   "source": [
    "# Missing Values"
   ]
  },
  {
   "cell_type": "markdown",
   "id": "7312f9f3-b60f-4eb8-a217-d4c0f553b82b",
   "metadata": {},
   "source": [
    "# Finding Missing Values"
   ]
  },
  {
   "cell_type": "code",
   "execution_count": 88,
   "id": "261514e7-0149-4778-90fd-e1580cd38ba7",
   "metadata": {},
   "outputs": [
    {
     "data": {
      "text/plain": [
       "product_id        0\n",
       "product_name     16\n",
       "aisle_id          0\n",
       "department_id     0\n",
       "prices            0\n",
       "dtype: int64"
      ]
     },
     "execution_count": 88,
     "metadata": {},
     "output_type": "execute_result"
    }
   ],
   "source": [
    "# Finding Missing Values in prod\n",
    "df_prods.isnull().sum()"
   ]
  },
  {
   "cell_type": "code",
   "execution_count": 90,
   "id": "b0a60857-3176-412f-83fb-cb036aa6d6f8",
   "metadata": {},
   "outputs": [
    {
     "data": {
      "text/plain": [
       "Unnamed: 0                     0\n",
       "order_id                       0\n",
       "user_id                        0\n",
       "eval_set                       0\n",
       "order_number                   0\n",
       "orders_day_of_week             0\n",
       "order_hour_of_day              0\n",
       "days_since_prior_order    206209\n",
       "dtype: int64"
      ]
     },
     "execution_count": 90,
     "metadata": {},
     "output_type": "execute_result"
    }
   ],
   "source": [
    "# Finding Missing Values in orders\n",
    "df_ords.isnull().sum()"
   ]
  },
  {
   "cell_type": "code",
   "execution_count": 95,
   "id": "36e01921-cae0-48b7-bfe4-94a40687913c",
   "metadata": {},
   "outputs": [],
   "source": [
    "# subset of the dataframe containing only the missing values\n",
    "df_nan = df_prods[df_prods['product_name'].isnull() == True]"
   ]
  },
  {
   "cell_type": "code",
   "execution_count": 97,
   "id": "63478fc3-df34-43c2-8cd0-feb47b5696a9",
   "metadata": {},
   "outputs": [
    {
     "data": {
      "text/html": [
       "<div>\n",
       "<style scoped>\n",
       "    .dataframe tbody tr th:only-of-type {\n",
       "        vertical-align: middle;\n",
       "    }\n",
       "\n",
       "    .dataframe tbody tr th {\n",
       "        vertical-align: top;\n",
       "    }\n",
       "\n",
       "    .dataframe thead th {\n",
       "        text-align: right;\n",
       "    }\n",
       "</style>\n",
       "<table border=\"1\" class=\"dataframe\">\n",
       "  <thead>\n",
       "    <tr style=\"text-align: right;\">\n",
       "      <th></th>\n",
       "      <th>product_id</th>\n",
       "      <th>product_name</th>\n",
       "      <th>aisle_id</th>\n",
       "      <th>department_id</th>\n",
       "      <th>prices</th>\n",
       "    </tr>\n",
       "  </thead>\n",
       "  <tbody>\n",
       "    <tr>\n",
       "      <th>33</th>\n",
       "      <td>34</td>\n",
       "      <td>NaN</td>\n",
       "      <td>121</td>\n",
       "      <td>14</td>\n",
       "      <td>12.2</td>\n",
       "    </tr>\n",
       "    <tr>\n",
       "      <th>68</th>\n",
       "      <td>69</td>\n",
       "      <td>NaN</td>\n",
       "      <td>26</td>\n",
       "      <td>7</td>\n",
       "      <td>11.8</td>\n",
       "    </tr>\n",
       "    <tr>\n",
       "      <th>115</th>\n",
       "      <td>116</td>\n",
       "      <td>NaN</td>\n",
       "      <td>93</td>\n",
       "      <td>3</td>\n",
       "      <td>10.8</td>\n",
       "    </tr>\n",
       "    <tr>\n",
       "      <th>261</th>\n",
       "      <td>262</td>\n",
       "      <td>NaN</td>\n",
       "      <td>110</td>\n",
       "      <td>13</td>\n",
       "      <td>12.1</td>\n",
       "    </tr>\n",
       "    <tr>\n",
       "      <th>525</th>\n",
       "      <td>525</td>\n",
       "      <td>NaN</td>\n",
       "      <td>109</td>\n",
       "      <td>11</td>\n",
       "      <td>1.2</td>\n",
       "    </tr>\n",
       "    <tr>\n",
       "      <th>1511</th>\n",
       "      <td>1511</td>\n",
       "      <td>NaN</td>\n",
       "      <td>84</td>\n",
       "      <td>16</td>\n",
       "      <td>14.3</td>\n",
       "    </tr>\n",
       "    <tr>\n",
       "      <th>1780</th>\n",
       "      <td>1780</td>\n",
       "      <td>NaN</td>\n",
       "      <td>126</td>\n",
       "      <td>11</td>\n",
       "      <td>12.3</td>\n",
       "    </tr>\n",
       "    <tr>\n",
       "      <th>2240</th>\n",
       "      <td>2240</td>\n",
       "      <td>NaN</td>\n",
       "      <td>52</td>\n",
       "      <td>1</td>\n",
       "      <td>14.2</td>\n",
       "    </tr>\n",
       "    <tr>\n",
       "      <th>2586</th>\n",
       "      <td>2586</td>\n",
       "      <td>NaN</td>\n",
       "      <td>104</td>\n",
       "      <td>13</td>\n",
       "      <td>12.4</td>\n",
       "    </tr>\n",
       "    <tr>\n",
       "      <th>3159</th>\n",
       "      <td>3159</td>\n",
       "      <td>NaN</td>\n",
       "      <td>126</td>\n",
       "      <td>11</td>\n",
       "      <td>13.1</td>\n",
       "    </tr>\n",
       "    <tr>\n",
       "      <th>3230</th>\n",
       "      <td>3230</td>\n",
       "      <td>NaN</td>\n",
       "      <td>120</td>\n",
       "      <td>16</td>\n",
       "      <td>14.4</td>\n",
       "    </tr>\n",
       "    <tr>\n",
       "      <th>3736</th>\n",
       "      <td>3736</td>\n",
       "      <td>NaN</td>\n",
       "      <td>41</td>\n",
       "      <td>8</td>\n",
       "      <td>14.8</td>\n",
       "    </tr>\n",
       "    <tr>\n",
       "      <th>4283</th>\n",
       "      <td>4283</td>\n",
       "      <td>NaN</td>\n",
       "      <td>77</td>\n",
       "      <td>7</td>\n",
       "      <td>14.4</td>\n",
       "    </tr>\n",
       "    <tr>\n",
       "      <th>4790</th>\n",
       "      <td>4790</td>\n",
       "      <td>NaN</td>\n",
       "      <td>91</td>\n",
       "      <td>16</td>\n",
       "      <td>14.5</td>\n",
       "    </tr>\n",
       "    <tr>\n",
       "      <th>38187</th>\n",
       "      <td>38183</td>\n",
       "      <td>NaN</td>\n",
       "      <td>39</td>\n",
       "      <td>12</td>\n",
       "      <td>20.9</td>\n",
       "    </tr>\n",
       "    <tr>\n",
       "      <th>40444</th>\n",
       "      <td>40440</td>\n",
       "      <td>NaN</td>\n",
       "      <td>120</td>\n",
       "      <td>16</td>\n",
       "      <td>14.8</td>\n",
       "    </tr>\n",
       "  </tbody>\n",
       "</table>\n",
       "</div>"
      ],
      "text/plain": [
       "       product_id product_name  aisle_id  department_id  prices\n",
       "33             34          NaN       121             14    12.2\n",
       "68             69          NaN        26              7    11.8\n",
       "115           116          NaN        93              3    10.8\n",
       "261           262          NaN       110             13    12.1\n",
       "525           525          NaN       109             11     1.2\n",
       "1511         1511          NaN        84             16    14.3\n",
       "1780         1780          NaN       126             11    12.3\n",
       "2240         2240          NaN        52              1    14.2\n",
       "2586         2586          NaN       104             13    12.4\n",
       "3159         3159          NaN       126             11    13.1\n",
       "3230         3230          NaN       120             16    14.4\n",
       "3736         3736          NaN        41              8    14.8\n",
       "4283         4283          NaN        77              7    14.4\n",
       "4790         4790          NaN        91             16    14.5\n",
       "38187       38183          NaN        39             12    20.9\n",
       "40444       40440          NaN       120             16    14.8"
      ]
     },
     "execution_count": 97,
     "metadata": {},
     "output_type": "execute_result"
    }
   ],
   "source": [
    "df_nan"
   ]
  },
  {
   "cell_type": "markdown",
   "id": "5c88a2b9-d4f3-4b04-bd6f-8540c5c1b8ed",
   "metadata": {},
   "source": [
    "# Addressing Missing Values"
   ]
  },
  {
   "cell_type": "code",
   "execution_count": 103,
   "id": "02f0d3e1-ca1f-495a-9908-2a9e0b4aeef5",
   "metadata": {},
   "outputs": [],
   "source": [
    "# 1. Create a new variable that acts like a flag based on the missing value.\n",
    "# 2. Impute the value with the mean or median of the column (if the variable is numeric).\n",
    "# 3. Remove or filter out the missing data."
   ]
  },
  {
   "cell_type": "code",
   "execution_count": 117,
   "id": "5f36c459-dc6d-4eb2-a2f6-178efa438ba4",
   "metadata": {},
   "outputs": [
    {
     "name": "stdout",
     "output_type": "stream",
     "text": [
      "<class 'pandas.core.frame.DataFrame'>\n",
      "RangeIndex: 49693 entries, 0 to 49692\n",
      "Data columns (total 5 columns):\n",
      " #   Column         Non-Null Count  Dtype  \n",
      "---  ------         --------------  -----  \n",
      " 0   product_id     49693 non-null  int64  \n",
      " 1   product_name   49677 non-null  object \n",
      " 2   aisle_id       49693 non-null  int64  \n",
      " 3   department_id  49693 non-null  int64  \n",
      " 4   prices         49693 non-null  float64\n",
      "dtypes: float64(1), int64(3), object(1)\n",
      "memory usage: 1.9+ MB\n"
     ]
    }
   ],
   "source": [
    "# Info\n",
    "df_prods.info()"
   ]
  },
  {
   "cell_type": "code",
   "execution_count": 119,
   "id": "bcd2b0cf-7072-4864-8ce1-1aa5b171b6ea",
   "metadata": {},
   "outputs": [
    {
     "data": {
      "text/plain": [
       "product_name\n",
       "NaN                                                     16\n",
       "Black House Coffee Roasty Stout Beer                     2\n",
       "Adore Forever Body Wash                                  2\n",
       "Gluten Free Organic Peanut Butter & Chocolate Cereal     2\n",
       "Fiber 4g Gummy Dietary Supplement                        2\n",
       "                                                        ..\n",
       "Kosher Dill Mini Pickles                                 1\n",
       "Chili Rice Scooter                                       1\n",
       "All Natural Chicken Apple Sausage                        1\n",
       "Quartered Artichoke Hearts                               1\n",
       "Fresh Foaming Cleanser                                   1\n",
       "Name: count, Length: 49673, dtype: int64"
      ]
     },
     "execution_count": 119,
     "metadata": {},
     "output_type": "execute_result"
    }
   ],
   "source": [
    "# Value Count\n",
    "df_prods['product_name'].value_counts(dropna = False)"
   ]
  },
  {
   "cell_type": "code",
   "execution_count": 121,
   "id": "d10d392b-0f47-4e1b-b9d9-442111f8547b",
   "metadata": {},
   "outputs": [
    {
     "data": {
      "text/html": [
       "<div>\n",
       "<style scoped>\n",
       "    .dataframe tbody tr th:only-of-type {\n",
       "        vertical-align: middle;\n",
       "    }\n",
       "\n",
       "    .dataframe tbody tr th {\n",
       "        vertical-align: top;\n",
       "    }\n",
       "\n",
       "    .dataframe thead th {\n",
       "        text-align: right;\n",
       "    }\n",
       "</style>\n",
       "<table border=\"1\" class=\"dataframe\">\n",
       "  <thead>\n",
       "    <tr style=\"text-align: right;\">\n",
       "      <th></th>\n",
       "      <th>product_id</th>\n",
       "      <th>aisle_id</th>\n",
       "      <th>department_id</th>\n",
       "      <th>prices</th>\n",
       "    </tr>\n",
       "  </thead>\n",
       "  <tbody>\n",
       "    <tr>\n",
       "      <th>count</th>\n",
       "      <td>49693.000000</td>\n",
       "      <td>49693.000000</td>\n",
       "      <td>49693.000000</td>\n",
       "      <td>49693.000000</td>\n",
       "    </tr>\n",
       "    <tr>\n",
       "      <th>mean</th>\n",
       "      <td>24844.345139</td>\n",
       "      <td>67.770249</td>\n",
       "      <td>11.728433</td>\n",
       "      <td>9.994136</td>\n",
       "    </tr>\n",
       "    <tr>\n",
       "      <th>std</th>\n",
       "      <td>14343.717401</td>\n",
       "      <td>38.316774</td>\n",
       "      <td>5.850282</td>\n",
       "      <td>453.519686</td>\n",
       "    </tr>\n",
       "    <tr>\n",
       "      <th>min</th>\n",
       "      <td>1.000000</td>\n",
       "      <td>1.000000</td>\n",
       "      <td>1.000000</td>\n",
       "      <td>1.000000</td>\n",
       "    </tr>\n",
       "    <tr>\n",
       "      <th>25%</th>\n",
       "      <td>12423.000000</td>\n",
       "      <td>35.000000</td>\n",
       "      <td>7.000000</td>\n",
       "      <td>4.100000</td>\n",
       "    </tr>\n",
       "    <tr>\n",
       "      <th>50%</th>\n",
       "      <td>24845.000000</td>\n",
       "      <td>69.000000</td>\n",
       "      <td>13.000000</td>\n",
       "      <td>7.100000</td>\n",
       "    </tr>\n",
       "    <tr>\n",
       "      <th>75%</th>\n",
       "      <td>37265.000000</td>\n",
       "      <td>100.000000</td>\n",
       "      <td>17.000000</td>\n",
       "      <td>11.200000</td>\n",
       "    </tr>\n",
       "    <tr>\n",
       "      <th>max</th>\n",
       "      <td>49688.000000</td>\n",
       "      <td>134.000000</td>\n",
       "      <td>21.000000</td>\n",
       "      <td>99999.000000</td>\n",
       "    </tr>\n",
       "  </tbody>\n",
       "</table>\n",
       "</div>"
      ],
      "text/plain": [
       "         product_id      aisle_id  department_id        prices\n",
       "count  49693.000000  49693.000000   49693.000000  49693.000000\n",
       "mean   24844.345139     67.770249      11.728433      9.994136\n",
       "std    14343.717401     38.316774       5.850282    453.519686\n",
       "min        1.000000      1.000000       1.000000      1.000000\n",
       "25%    12423.000000     35.000000       7.000000      4.100000\n",
       "50%    24845.000000     69.000000      13.000000      7.100000\n",
       "75%    37265.000000    100.000000      17.000000     11.200000\n",
       "max    49688.000000    134.000000      21.000000  99999.000000"
      ]
     },
     "execution_count": 121,
     "metadata": {},
     "output_type": "execute_result"
    }
   ],
   "source": [
    "# desctryptive check\n",
    "df_prods.describe()"
   ]
  },
  {
   "cell_type": "markdown",
   "id": "cc89f786-307f-4bcf-9075-56f564cc8fee",
   "metadata": {},
   "source": [
    "# Replacing missings"
   ]
  },
  {
   "cell_type": "code",
   "execution_count": 125,
   "id": "98ea74e7-345f-4b88-82f7-ff8fce3eab9b",
   "metadata": {},
   "outputs": [],
   "source": [
    "# code to replace missings with mean value \n",
    "# df['column with missings'].fillna(mean value, inplace=True)"
   ]
  },
  {
   "cell_type": "code",
   "execution_count": 127,
   "id": "969c2cc2-41b5-4ad8-960e-3152bfdeced5",
   "metadata": {},
   "outputs": [],
   "source": [
    "# code to replace missings with median value\n",
    "# df['column with missings'].fillna(median value, inplace=True)"
   ]
  },
  {
   "cell_type": "code",
   "execution_count": 129,
   "id": "394a37e3-0887-4d60-834a-42a1901d1793",
   "metadata": {},
   "outputs": [
    {
     "data": {
      "text/plain": [
       "(49693, 5)"
      ]
     },
     "execution_count": 129,
     "metadata": {},
     "output_type": "execute_result"
    }
   ],
   "source": [
    "# checking \n",
    "df_prods.shape"
   ]
  },
  {
   "cell_type": "markdown",
   "id": "c79557db-b06b-4248-8fef-38c671ef4347",
   "metadata": {},
   "source": [
    "# clean new dataframe"
   ]
  },
  {
   "cell_type": "code",
   "execution_count": 131,
   "id": "0e05f62a-b1e0-4d88-9939-bc5f9706f89c",
   "metadata": {},
   "outputs": [],
   "source": [
    "# Lets create a clean new dataframe\n",
    "df_prods_clean = df_prods[df_prods['product_name'].isnull() == False]"
   ]
  },
  {
   "cell_type": "code",
   "execution_count": 145,
   "id": "8d5de564-45b3-42ce-a616-22f359cf3223",
   "metadata": {},
   "outputs": [
    {
     "data": {
      "text/plain": [
       "(49677, 5)"
      ]
     },
     "execution_count": 145,
     "metadata": {},
     "output_type": "execute_result"
    }
   ],
   "source": [
    "# checking \n",
    "df_prods_clean.shape"
   ]
  },
  {
   "cell_type": "code",
   "execution_count": 147,
   "id": "5a831ed0-9340-4ce1-9436-28a7bc2b0ece",
   "metadata": {},
   "outputs": [
    {
     "name": "stdout",
     "output_type": "stream",
     "text": [
      "<class 'pandas.core.frame.DataFrame'>\n",
      "Index: 49677 entries, 0 to 49692\n",
      "Data columns (total 5 columns):\n",
      " #   Column         Non-Null Count  Dtype  \n",
      "---  ------         --------------  -----  \n",
      " 0   product_id     49677 non-null  int64  \n",
      " 1   product_name   49677 non-null  object \n",
      " 2   aisle_id       49677 non-null  int64  \n",
      " 3   department_id  49677 non-null  int64  \n",
      " 4   prices         49677 non-null  float64\n",
      "dtypes: float64(1), int64(3), object(1)\n",
      "memory usage: 2.3+ MB\n"
     ]
    }
   ],
   "source": [
    "# Info\n",
    "df_prods_clean.info()"
   ]
  },
  {
   "cell_type": "markdown",
   "id": "ccf59739-0b77-426c-aca3-2c29d9c74bfc",
   "metadata": {},
   "source": [
    "# deleting missings"
   ]
  },
  {
   "cell_type": "code",
   "execution_count": 151,
   "id": "6a20429b-432d-4b0e-bf6d-d699f13a8e8e",
   "metadata": {},
   "outputs": [],
   "source": [
    "# quick way to delete Nan and overwriting oryginal file - way 1\n",
    "# df_prods.dropna(inplace = True)"
   ]
  },
  {
   "cell_type": "code",
   "execution_count": 149,
   "id": "5c1ebb8f-91e5-40ac-84a1-9d56a3a37a0b",
   "metadata": {},
   "outputs": [],
   "source": [
    "# quick way to delete Nan and overwriting oryginal file - way 2\n",
    "# df_prods.dropna(subset = [‘product_name’], inplace = True)"
   ]
  },
  {
   "cell_type": "markdown",
   "id": "e3c6ad13-599e-4b05-b68c-e4ab6d658787",
   "metadata": {},
   "source": [
    "# Duplicates"
   ]
  },
  {
   "cell_type": "markdown",
   "id": "3f7881f3-81b9-4103-9546-47f0bdebbd64",
   "metadata": {},
   "source": [
    "# Finding Duplicates"
   ]
  },
  {
   "cell_type": "code",
   "execution_count": 155,
   "id": "ca116d29-6fa2-468f-a520-85bac64fdd7c",
   "metadata": {},
   "outputs": [],
   "source": [
    "# The following command will look for full duplicates within your dataframe\n",
    "df_dups = df_prods_clean[df_prods_clean.duplicated()]"
   ]
  },
  {
   "cell_type": "code",
   "execution_count": 160,
   "id": "f2cfb033-38d0-4db3-a275-eaedbb182ef9",
   "metadata": {},
   "outputs": [
    {
     "data": {
      "text/html": [
       "<div>\n",
       "<style scoped>\n",
       "    .dataframe tbody tr th:only-of-type {\n",
       "        vertical-align: middle;\n",
       "    }\n",
       "\n",
       "    .dataframe tbody tr th {\n",
       "        vertical-align: top;\n",
       "    }\n",
       "\n",
       "    .dataframe thead th {\n",
       "        text-align: right;\n",
       "    }\n",
       "</style>\n",
       "<table border=\"1\" class=\"dataframe\">\n",
       "  <thead>\n",
       "    <tr style=\"text-align: right;\">\n",
       "      <th></th>\n",
       "      <th>product_id</th>\n",
       "      <th>product_name</th>\n",
       "      <th>aisle_id</th>\n",
       "      <th>department_id</th>\n",
       "      <th>prices</th>\n",
       "    </tr>\n",
       "  </thead>\n",
       "  <tbody>\n",
       "    <tr>\n",
       "      <th>462</th>\n",
       "      <td>462</td>\n",
       "      <td>Fiber 4g Gummy Dietary Supplement</td>\n",
       "      <td>70</td>\n",
       "      <td>11</td>\n",
       "      <td>4.8</td>\n",
       "    </tr>\n",
       "    <tr>\n",
       "      <th>18459</th>\n",
       "      <td>18458</td>\n",
       "      <td>Ranger IPA</td>\n",
       "      <td>27</td>\n",
       "      <td>5</td>\n",
       "      <td>9.2</td>\n",
       "    </tr>\n",
       "    <tr>\n",
       "      <th>26810</th>\n",
       "      <td>26808</td>\n",
       "      <td>Black House Coffee Roasty Stout Beer</td>\n",
       "      <td>27</td>\n",
       "      <td>5</td>\n",
       "      <td>13.4</td>\n",
       "    </tr>\n",
       "    <tr>\n",
       "      <th>35309</th>\n",
       "      <td>35306</td>\n",
       "      <td>Gluten Free Organic Peanut Butter &amp; Chocolate ...</td>\n",
       "      <td>121</td>\n",
       "      <td>14</td>\n",
       "      <td>6.8</td>\n",
       "    </tr>\n",
       "    <tr>\n",
       "      <th>35495</th>\n",
       "      <td>35491</td>\n",
       "      <td>Adore Forever Body Wash</td>\n",
       "      <td>127</td>\n",
       "      <td>11</td>\n",
       "      <td>9.9</td>\n",
       "    </tr>\n",
       "  </tbody>\n",
       "</table>\n",
       "</div>"
      ],
      "text/plain": [
       "       product_id                                       product_name  \\\n",
       "462           462                  Fiber 4g Gummy Dietary Supplement   \n",
       "18459       18458                                         Ranger IPA   \n",
       "26810       26808               Black House Coffee Roasty Stout Beer   \n",
       "35309       35306  Gluten Free Organic Peanut Butter & Chocolate ...   \n",
       "35495       35491                            Adore Forever Body Wash   \n",
       "\n",
       "       aisle_id  department_id  prices  \n",
       "462          70             11     4.8  \n",
       "18459        27              5     9.2  \n",
       "26810        27              5    13.4  \n",
       "35309       121             14     6.8  \n",
       "35495       127             11     9.9  "
      ]
     },
     "execution_count": 160,
     "metadata": {},
     "output_type": "execute_result"
    }
   ],
   "source": [
    "# Results\n",
    "df_dups"
   ]
  },
  {
   "cell_type": "markdown",
   "id": "45015d83-5538-4fcb-ab68-ad263ca758f6",
   "metadata": {},
   "source": [
    "# Addressing Duplicates"
   ]
  },
  {
   "cell_type": "code",
   "execution_count": null,
   "id": "4d84400b-1007-4d63-b81d-305718018a2d",
   "metadata": {},
   "outputs": [],
   "source": [
    "# pandas has a handy function for just this purpose - df.drop_duplicates()"
   ]
  },
  {
   "cell_type": "code",
   "execution_count": 164,
   "id": "3c06404b-4b13-495f-b7e3-3a13e1672bf4",
   "metadata": {},
   "outputs": [
    {
     "data": {
      "text/plain": [
       "(49677, 5)"
      ]
     },
     "execution_count": 164,
     "metadata": {},
     "output_type": "execute_result"
    }
   ],
   "source": [
    "# checking shape\n",
    "df_prods_clean.shape"
   ]
  },
  {
   "cell_type": "code",
   "execution_count": 166,
   "id": "3e4b6ef2-d376-49ad-9d41-022a54310d0f",
   "metadata": {},
   "outputs": [],
   "source": [
    "# lets delete the duplicates\n",
    "df_prods_clean_no_dups = df_prods_clean.drop_duplicates()"
   ]
  },
  {
   "cell_type": "code",
   "execution_count": 176,
   "id": "43954edb-19ed-41fe-9772-429834131d8f",
   "metadata": {},
   "outputs": [
    {
     "data": {
      "text/plain": [
       "(49672, 5)"
      ]
     },
     "execution_count": 176,
     "metadata": {},
     "output_type": "execute_result"
    }
   ],
   "source": [
    "# checking shape\n",
    "df_prods_clean_no_dups.shape"
   ]
  },
  {
   "cell_type": "code",
   "execution_count": 178,
   "id": "761a1e96-f416-4350-a113-090976383b99",
   "metadata": {},
   "outputs": [
    {
     "data": {
      "text/html": [
       "<div>\n",
       "<style scoped>\n",
       "    .dataframe tbody tr th:only-of-type {\n",
       "        vertical-align: middle;\n",
       "    }\n",
       "\n",
       "    .dataframe tbody tr th {\n",
       "        vertical-align: top;\n",
       "    }\n",
       "\n",
       "    .dataframe thead th {\n",
       "        text-align: right;\n",
       "    }\n",
       "</style>\n",
       "<table border=\"1\" class=\"dataframe\">\n",
       "  <thead>\n",
       "    <tr style=\"text-align: right;\">\n",
       "      <th></th>\n",
       "      <th>product_id</th>\n",
       "      <th>product_name</th>\n",
       "      <th>aisle_id</th>\n",
       "      <th>department_id</th>\n",
       "      <th>prices</th>\n",
       "    </tr>\n",
       "  </thead>\n",
       "  <tbody>\n",
       "  </tbody>\n",
       "</table>\n",
       "</div>"
      ],
      "text/plain": [
       "Empty DataFrame\n",
       "Columns: [product_id, product_name, aisle_id, department_id, prices]\n",
       "Index: []"
      ]
     },
     "execution_count": 178,
     "metadata": {},
     "output_type": "execute_result"
    }
   ],
   "source": [
    "# Double checking - new cleaned df\n",
    "df_prods_clean_no_dups[df_prods_clean_no_dups.duplicated()]"
   ]
  },
  {
   "cell_type": "code",
   "execution_count": 182,
   "id": "5f3e30e4-d6d2-42f4-a264-ddd286bb04ce",
   "metadata": {},
   "outputs": [],
   "source": [
    "# Exporting clean and checked file to prepered folder\n",
    "# df_prods_clean_no_dups.to_csv(os.path.join(path, '02 Data','Prepared Data', 'products_checked.csv'))"
   ]
  },
  {
   "cell_type": "markdown",
   "id": "a7f363c5-d774-4067-97ce-283a5d376ec6",
   "metadata": {},
   "source": [
    "# Exercise 4.5"
   ]
  },
  {
   "cell_type": "markdown",
   "id": "d73913e1-87d1-4c6e-8bdc-f4363554a14e",
   "metadata": {},
   "source": [
    "# Run the df.describe() function on your df_ords dataframe. Using your new knowledge about how to interpret the output of this function, share in a markdown cell whether anything about the data looks off or should be investigated further."
   ]
  },
  {
   "cell_type": "code",
   "execution_count": 188,
   "id": "ce058a23-3f8c-4d4a-9646-9d37fa2f7060",
   "metadata": {},
   "outputs": [
    {
     "data": {
      "text/html": [
       "<div>\n",
       "<style scoped>\n",
       "    .dataframe tbody tr th:only-of-type {\n",
       "        vertical-align: middle;\n",
       "    }\n",
       "\n",
       "    .dataframe tbody tr th {\n",
       "        vertical-align: top;\n",
       "    }\n",
       "\n",
       "    .dataframe thead th {\n",
       "        text-align: right;\n",
       "    }\n",
       "</style>\n",
       "<table border=\"1\" class=\"dataframe\">\n",
       "  <thead>\n",
       "    <tr style=\"text-align: right;\">\n",
       "      <th></th>\n",
       "      <th>Unnamed: 0</th>\n",
       "      <th>order_id</th>\n",
       "      <th>user_id</th>\n",
       "      <th>order_number</th>\n",
       "      <th>orders_day_of_week</th>\n",
       "      <th>order_hour_of_day</th>\n",
       "      <th>days_since_prior_order</th>\n",
       "    </tr>\n",
       "  </thead>\n",
       "  <tbody>\n",
       "    <tr>\n",
       "      <th>count</th>\n",
       "      <td>3.421083e+06</td>\n",
       "      <td>3.421083e+06</td>\n",
       "      <td>3.421083e+06</td>\n",
       "      <td>3.421083e+06</td>\n",
       "      <td>3.421083e+06</td>\n",
       "      <td>3.421083e+06</td>\n",
       "      <td>3.214874e+06</td>\n",
       "    </tr>\n",
       "    <tr>\n",
       "      <th>mean</th>\n",
       "      <td>1.710541e+06</td>\n",
       "      <td>1.710542e+06</td>\n",
       "      <td>1.029782e+05</td>\n",
       "      <td>1.715486e+01</td>\n",
       "      <td>2.776219e+00</td>\n",
       "      <td>1.345202e+01</td>\n",
       "      <td>1.111484e+01</td>\n",
       "    </tr>\n",
       "    <tr>\n",
       "      <th>std</th>\n",
       "      <td>9.875817e+05</td>\n",
       "      <td>9.875817e+05</td>\n",
       "      <td>5.953372e+04</td>\n",
       "      <td>1.773316e+01</td>\n",
       "      <td>2.046829e+00</td>\n",
       "      <td>4.226088e+00</td>\n",
       "      <td>9.206737e+00</td>\n",
       "    </tr>\n",
       "    <tr>\n",
       "      <th>min</th>\n",
       "      <td>0.000000e+00</td>\n",
       "      <td>1.000000e+00</td>\n",
       "      <td>1.000000e+00</td>\n",
       "      <td>1.000000e+00</td>\n",
       "      <td>0.000000e+00</td>\n",
       "      <td>0.000000e+00</td>\n",
       "      <td>0.000000e+00</td>\n",
       "    </tr>\n",
       "    <tr>\n",
       "      <th>25%</th>\n",
       "      <td>8.552705e+05</td>\n",
       "      <td>8.552715e+05</td>\n",
       "      <td>5.139400e+04</td>\n",
       "      <td>5.000000e+00</td>\n",
       "      <td>1.000000e+00</td>\n",
       "      <td>1.000000e+01</td>\n",
       "      <td>4.000000e+00</td>\n",
       "    </tr>\n",
       "    <tr>\n",
       "      <th>50%</th>\n",
       "      <td>1.710541e+06</td>\n",
       "      <td>1.710542e+06</td>\n",
       "      <td>1.026890e+05</td>\n",
       "      <td>1.100000e+01</td>\n",
       "      <td>3.000000e+00</td>\n",
       "      <td>1.300000e+01</td>\n",
       "      <td>7.000000e+00</td>\n",
       "    </tr>\n",
       "    <tr>\n",
       "      <th>75%</th>\n",
       "      <td>2.565812e+06</td>\n",
       "      <td>2.565812e+06</td>\n",
       "      <td>1.543850e+05</td>\n",
       "      <td>2.300000e+01</td>\n",
       "      <td>5.000000e+00</td>\n",
       "      <td>1.600000e+01</td>\n",
       "      <td>1.500000e+01</td>\n",
       "    </tr>\n",
       "    <tr>\n",
       "      <th>max</th>\n",
       "      <td>3.421082e+06</td>\n",
       "      <td>3.421083e+06</td>\n",
       "      <td>2.062090e+05</td>\n",
       "      <td>1.000000e+02</td>\n",
       "      <td>6.000000e+00</td>\n",
       "      <td>2.300000e+01</td>\n",
       "      <td>3.000000e+01</td>\n",
       "    </tr>\n",
       "  </tbody>\n",
       "</table>\n",
       "</div>"
      ],
      "text/plain": [
       "         Unnamed: 0      order_id       user_id  order_number  \\\n",
       "count  3.421083e+06  3.421083e+06  3.421083e+06  3.421083e+06   \n",
       "mean   1.710541e+06  1.710542e+06  1.029782e+05  1.715486e+01   \n",
       "std    9.875817e+05  9.875817e+05  5.953372e+04  1.773316e+01   \n",
       "min    0.000000e+00  1.000000e+00  1.000000e+00  1.000000e+00   \n",
       "25%    8.552705e+05  8.552715e+05  5.139400e+04  5.000000e+00   \n",
       "50%    1.710541e+06  1.710542e+06  1.026890e+05  1.100000e+01   \n",
       "75%    2.565812e+06  2.565812e+06  1.543850e+05  2.300000e+01   \n",
       "max    3.421082e+06  3.421083e+06  2.062090e+05  1.000000e+02   \n",
       "\n",
       "       orders_day_of_week  order_hour_of_day  days_since_prior_order  \n",
       "count        3.421083e+06       3.421083e+06            3.214874e+06  \n",
       "mean         2.776219e+00       1.345202e+01            1.111484e+01  \n",
       "std          2.046829e+00       4.226088e+00            9.206737e+00  \n",
       "min          0.000000e+00       0.000000e+00            0.000000e+00  \n",
       "25%          1.000000e+00       1.000000e+01            4.000000e+00  \n",
       "50%          3.000000e+00       1.300000e+01            7.000000e+00  \n",
       "75%          5.000000e+00       1.600000e+01            1.500000e+01  \n",
       "max          6.000000e+00       2.300000e+01            3.000000e+01  "
      ]
     },
     "execution_count": 188,
     "metadata": {},
     "output_type": "execute_result"
    }
   ],
   "source": [
    "# Checking Descryptives\n",
    "df_ords.describe()"
   ]
  },
  {
   "cell_type": "code",
   "execution_count": null,
   "id": "bf4d6242-c685-49a3-b6e7-076dd7a9ca61",
   "metadata": {},
   "outputs": [],
   "source": [
    "# 1. \"order_number\" - Check if the high values (e.g., 100) are consistent with user activity or result from data duplication or test accounts.\n",
    "# 2. \"days_since_prior_order\" - Explore the distribution of 0 values to determine if these represent valid consecutive orders or potential data entry issues.\n",
    "# 3. \"Unnamed: 0\" - If this is redundant, it can be removed to declutter the dataframe"
   ]
  },
  {
   "cell_type": "markdown",
   "id": "58fd950e-9729-4381-8572-7c61704d1502",
   "metadata": {},
   "source": [
    "# Check for mixed-type data in your df_ords dataframe."
   ]
  },
  {
   "cell_type": "code",
   "execution_count": 192,
   "id": "23b7514a-7462-4aaf-a1e6-16d44de40af5",
   "metadata": {},
   "outputs": [
    {
     "name": "stderr",
     "output_type": "stream",
     "text": [
      "C:\\Users\\zwier\\AppData\\Local\\Temp\\ipykernel_12972\\2061706713.py:4: FutureWarning: DataFrame.applymap has been deprecated. Use DataFrame.map instead.\n",
      "  weird = (df_ords[[col]].applymap(type) != df_ords[[col]].iloc[0].apply(type)).any(axis = 1)\n",
      "C:\\Users\\zwier\\AppData\\Local\\Temp\\ipykernel_12972\\2061706713.py:4: FutureWarning: DataFrame.applymap has been deprecated. Use DataFrame.map instead.\n",
      "  weird = (df_ords[[col]].applymap(type) != df_ords[[col]].iloc[0].apply(type)).any(axis = 1)\n",
      "C:\\Users\\zwier\\AppData\\Local\\Temp\\ipykernel_12972\\2061706713.py:4: FutureWarning: DataFrame.applymap has been deprecated. Use DataFrame.map instead.\n",
      "  weird = (df_ords[[col]].applymap(type) != df_ords[[col]].iloc[0].apply(type)).any(axis = 1)\n",
      "C:\\Users\\zwier\\AppData\\Local\\Temp\\ipykernel_12972\\2061706713.py:4: FutureWarning: DataFrame.applymap has been deprecated. Use DataFrame.map instead.\n",
      "  weird = (df_ords[[col]].applymap(type) != df_ords[[col]].iloc[0].apply(type)).any(axis = 1)\n",
      "C:\\Users\\zwier\\AppData\\Local\\Temp\\ipykernel_12972\\2061706713.py:4: FutureWarning: DataFrame.applymap has been deprecated. Use DataFrame.map instead.\n",
      "  weird = (df_ords[[col]].applymap(type) != df_ords[[col]].iloc[0].apply(type)).any(axis = 1)\n",
      "C:\\Users\\zwier\\AppData\\Local\\Temp\\ipykernel_12972\\2061706713.py:4: FutureWarning: DataFrame.applymap has been deprecated. Use DataFrame.map instead.\n",
      "  weird = (df_ords[[col]].applymap(type) != df_ords[[col]].iloc[0].apply(type)).any(axis = 1)\n",
      "C:\\Users\\zwier\\AppData\\Local\\Temp\\ipykernel_12972\\2061706713.py:4: FutureWarning: DataFrame.applymap has been deprecated. Use DataFrame.map instead.\n",
      "  weird = (df_ords[[col]].applymap(type) != df_ords[[col]].iloc[0].apply(type)).any(axis = 1)\n",
      "C:\\Users\\zwier\\AppData\\Local\\Temp\\ipykernel_12972\\2061706713.py:4: FutureWarning: DataFrame.applymap has been deprecated. Use DataFrame.map instead.\n",
      "  weird = (df_ords[[col]].applymap(type) != df_ords[[col]].iloc[0].apply(type)).any(axis = 1)\n"
     ]
    }
   ],
   "source": [
    "# Check for mixed types\n",
    "\n",
    "for col in df_ords.columns.tolist():\n",
    "  weird = (df_ords[[col]].applymap(type) != df_ords[[col]].iloc[0].apply(type)).any(axis = 1)\n",
    "  if len (df_ords[weird]) > 0:\n",
    "    print (col)"
   ]
  },
  {
   "cell_type": "code",
   "execution_count": 208,
   "id": "7ea58242-049f-4d03-8c2b-afce802187c1",
   "metadata": {},
   "outputs": [
    {
     "name": "stdout",
     "output_type": "stream",
     "text": [
      "Column Unnamed: 0 is clean.\n",
      "Column order_id is clean.\n",
      "Column user_id is clean.\n",
      "Column eval_set is clean.\n",
      "Column order_number is clean.\n",
      "Column orders_day_of_week is clean.\n",
      "Column order_hour_of_day is clean.\n",
      "Column days_since_prior_order is clean.\n"
     ]
    }
   ],
   "source": [
    "# Check for mixed types. Fixed (i hope)\n",
    "\n",
    "for col in df_ords.columns:\n",
    "    # Check if the column contains more than one unique data type\n",
    "    unique_types = df_ords[col].apply(type).nunique()\n",
    "    if unique_types > 1:\n",
    "        print(f\"Column {col} contains mixed types.\")\n",
    "    else:\n",
    "        print(f\"Column {col} is clean.\")\n"
   ]
  },
  {
   "cell_type": "markdown",
   "id": "efea30dc-41f5-4bd1-9559-a9a9bf71a902",
   "metadata": {},
   "source": [
    "# If you find mixed-type data, fix it. The column in question should contain observations of a single data type."
   ]
  },
  {
   "cell_type": "markdown",
   "id": "02e65032-03b2-4277-8a22-edea9364e5c4",
   "metadata": {},
   "source": [
    "## nothing to fix\n",
    "\n",
    "Column Unnamed: 0 is clean.\n",
    "Column order_id is clean.\n",
    "Column user_id is clean.\n",
    "Column eval_set is clean.\n",
    "Column order_number is clean.\n",
    "Column orders_day_of_week is clean.\n",
    "Column order_hour_of_day is clean.\n",
    "Column days_since_prior_order is clean."
   ]
  },
  {
   "cell_type": "markdown",
   "id": "28a3d1b5-dcc6-4e42-ac45-a919de5ae61b",
   "metadata": {},
   "source": [
    "# Run a check for missing values in your df_ords dataframe."
   ]
  },
  {
   "cell_type": "code",
   "execution_count": 215,
   "id": "534c1a59-9e97-4a34-885d-30af44be7e1e",
   "metadata": {},
   "outputs": [
    {
     "data": {
      "text/plain": [
       "Unnamed: 0                     0\n",
       "order_id                       0\n",
       "user_id                        0\n",
       "eval_set                       0\n",
       "order_number                   0\n",
       "orders_day_of_week             0\n",
       "order_hour_of_day              0\n",
       "days_since_prior_order    206209\n",
       "dtype: int64"
      ]
     },
     "execution_count": 215,
     "metadata": {},
     "output_type": "execute_result"
    }
   ],
   "source": [
    "# Finding Missing Values in orders\n",
    "df_ords.isnull().sum()"
   ]
  },
  {
   "cell_type": "markdown",
   "id": "f9efdede-66b9-469e-b8a2-247c4ed2c6aa",
   "metadata": {},
   "source": [
    "days_since_prior_order: Contains 206,209 missing values.\n",
    "Missing values likely represent the first order for each user in the dataset. Since there is no prior order to calculate the gap, this column would naturally have a NaN for such rows.\n",
    "\n"
   ]
  },
  {
   "cell_type": "markdown",
   "id": "3eac0ef3-6f0b-4093-9969-a1612a9a620a",
   "metadata": {},
   "source": [
    "# Address the missing values using an appropriate method.\n",
    "In a markdown cell, explain why you used your method of choice"
   ]
  },
  {
   "cell_type": "code",
   "execution_count": 223,
   "id": "b5d28ad1-c315-4393-9d65-98cee2785627",
   "metadata": {},
   "outputs": [
    {
     "name": "stderr",
     "output_type": "stream",
     "text": [
      "C:\\Users\\zwier\\AppData\\Local\\Temp\\ipykernel_12972\\4265045068.py:2: FutureWarning: A value is trying to be set on a copy of a DataFrame or Series through chained assignment using an inplace method.\n",
      "The behavior will change in pandas 3.0. This inplace method will never work because the intermediate object on which we are setting values always behaves as a copy.\n",
      "\n",
      "For example, when doing 'df[col].method(value, inplace=True)', try using 'df.method({col: value}, inplace=True)' or df[col] = df[col].method(value) instead, to perform the operation inplace on the original object.\n",
      "\n",
      "\n",
      "  df_ords['days_since_prior_order'].fillna(0, inplace=True)\n"
     ]
    }
   ],
   "source": [
    "# Fill missing values with 0\n",
    "df_ords['days_since_prior_order'].fillna(0, inplace=True)"
   ]
  },
  {
   "cell_type": "markdown",
   "id": "831bb743-0d52-4c00-9403-5dec10ab8d4f",
   "metadata": {},
   "source": [
    "Filling missing values with 0 to indicate that it is the user's first order. This approach is logical because a \"0-day gap\" reflects the absence of prior orders. No clue why this failed. "
   ]
  },
  {
   "cell_type": "markdown",
   "id": "99fac593-ea7e-4c95-898a-1d2ff5bc093d",
   "metadata": {},
   "source": [
    "# Run a check for duplicate values in your df_ords data.\n",
    "In a markdown cell, report your findings and propose an explanation for any duplicate values you find."
   ]
  },
  {
   "cell_type": "code",
   "execution_count": 229,
   "id": "93897df5-bcf8-433d-ba57-df89963c87a2",
   "metadata": {},
   "outputs": [
    {
     "data": {
      "text/html": [
       "<div>\n",
       "<style scoped>\n",
       "    .dataframe tbody tr th:only-of-type {\n",
       "        vertical-align: middle;\n",
       "    }\n",
       "\n",
       "    .dataframe tbody tr th {\n",
       "        vertical-align: top;\n",
       "    }\n",
       "\n",
       "    .dataframe thead th {\n",
       "        text-align: right;\n",
       "    }\n",
       "</style>\n",
       "<table border=\"1\" class=\"dataframe\">\n",
       "  <thead>\n",
       "    <tr style=\"text-align: right;\">\n",
       "      <th></th>\n",
       "      <th>Unnamed: 0</th>\n",
       "      <th>order_id</th>\n",
       "      <th>user_id</th>\n",
       "      <th>eval_set</th>\n",
       "      <th>order_number</th>\n",
       "      <th>orders_day_of_week</th>\n",
       "      <th>order_hour_of_day</th>\n",
       "      <th>days_since_prior_order</th>\n",
       "    </tr>\n",
       "  </thead>\n",
       "  <tbody>\n",
       "  </tbody>\n",
       "</table>\n",
       "</div>"
      ],
      "text/plain": [
       "Empty DataFrame\n",
       "Columns: [Unnamed: 0, order_id, user_id, eval_set, order_number, orders_day_of_week, order_hour_of_day, days_since_prior_order]\n",
       "Index: []"
      ]
     },
     "execution_count": 229,
     "metadata": {},
     "output_type": "execute_result"
    }
   ],
   "source": [
    "# Checking for duplicates\n",
    "df_ords[df_ords.duplicated()]"
   ]
  },
  {
   "cell_type": "code",
   "execution_count": 233,
   "id": "32bd2f4a-f650-4494-b7db-fef781cb74e7",
   "metadata": {},
   "outputs": [
    {
     "name": "stdout",
     "output_type": "stream",
     "text": [
      "Number of duplicate rows: 0\n"
     ]
    }
   ],
   "source": [
    "# Counting Duplicate Rows\n",
    "duplicate_count = df_ords.duplicated().sum()\n",
    "print(f\"Number of duplicate rows: {duplicate_count}\")\n"
   ]
  },
  {
   "cell_type": "markdown",
   "id": "bd1482b3-89cb-433d-9b9e-99c415853450",
   "metadata": {},
   "source": [
    "# Answer: There are non"
   ]
  },
  {
   "cell_type": "markdown",
   "id": "7a952681-b652-4d2a-9c57-bb59723a149a",
   "metadata": {},
   "source": [
    "# Address the duplicates using an appropriate method.\n",
    "In a markdown cell, explain why you used your method of choice."
   ]
  },
  {
   "cell_type": "markdown",
   "id": "279157d9-41eb-461a-b547-4340deebd950",
   "metadata": {},
   "source": [
    "# Answer: There are non"
   ]
  },
  {
   "cell_type": "code",
   "execution_count": 241,
   "id": "be350cd0-a802-4426-a00e-5a3f991dbee6",
   "metadata": {},
   "outputs": [],
   "source": [
    "# Exporting clean and checked file to prepered folder\n",
    "# df_ords.to_csv(os.path.join(path, '02 Data','Prepared Data', 'orders_checked.csv'))"
   ]
  },
  {
   "cell_type": "code",
   "execution_count": null,
   "id": "68e6ade5-0e65-4045-99dd-2eda34769831",
   "metadata": {},
   "outputs": [],
   "source": []
  }
 ],
 "metadata": {
  "kernelspec": {
   "display_name": "Python [conda env:base] *",
   "language": "python",
   "name": "conda-base-py"
  },
  "language_info": {
   "codemirror_mode": {
    "name": "ipython",
    "version": 3
   },
   "file_extension": ".py",
   "mimetype": "text/x-python",
   "name": "python",
   "nbconvert_exporter": "python",
   "pygments_lexer": "ipython3",
   "version": "3.12.7"
  }
 },
 "nbformat": 4,
 "nbformat_minor": 5
}
