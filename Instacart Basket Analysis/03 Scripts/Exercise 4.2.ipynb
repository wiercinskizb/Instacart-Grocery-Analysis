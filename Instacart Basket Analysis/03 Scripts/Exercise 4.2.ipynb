{
 "cells": [
  {
   "cell_type": "code",
   "execution_count": 2,
   "id": "6513bcd0-4b3b-4da3-965b-c604ca24e7e6",
   "metadata": {},
   "outputs": [],
   "source": [
    "# Import libraries\n",
    "import pandas as pd\n",
    "import numpy as np\n",
    "import os"
   ]
  },
  {
   "cell_type": "markdown",
   "id": "7ba24421-9078-47c9-bc31-fc278abfb7b1",
   "metadata": {},
   "source": [
    "# Working with Python data types"
   ]
  },
  {
   "cell_type": "markdown",
   "id": "a9b032c0-f715-4e49-9b5d-f9018676c37a",
   "metadata": {},
   "source": [
    "# Code 3 different ways of reaching a result of 100 by adding or subtracting numeric variables."
   ]
  },
  {
   "cell_type": "code",
   "execution_count": 47,
   "id": "a0fa1681-3d02-4f18-96c0-8e23959eea64",
   "metadata": {},
   "outputs": [],
   "source": [
    "x=25\n",
    "z=50"
   ]
  },
  {
   "cell_type": "code",
   "execution_count": 12,
   "id": "4a4ba0fb-a955-44ef-b3ac-0f85f5adbfc3",
   "metadata": {},
   "outputs": [
    {
     "data": {
      "text/plain": [
       "100"
      ]
     },
     "execution_count": 12,
     "metadata": {},
     "output_type": "execute_result"
    }
   ],
   "source": [
    "2*x+z"
   ]
  },
  {
   "cell_type": "code",
   "execution_count": 20,
   "id": "23b046a1-1814-4f06-922a-cffa6f679b0f",
   "metadata": {},
   "outputs": [
    {
     "data": {
      "text/plain": [
       "100.0"
      ]
     },
     "execution_count": 20,
     "metadata": {},
     "output_type": "execute_result"
    }
   ],
   "source": [
    "(4*z)/2"
   ]
  },
  {
   "cell_type": "code",
   "execution_count": 26,
   "id": "ec053da8-a32c-436e-9222-77120894d4d6",
   "metadata": {},
   "outputs": [
    {
     "data": {
      "text/plain": [
       "100"
      ]
     },
     "execution_count": 26,
     "metadata": {},
     "output_type": "execute_result"
    }
   ],
   "source": [
    "(6*x)-z"
   ]
  },
  {
   "cell_type": "markdown",
   "id": "79dc89c7-1d99-4f46-93b3-1eaaabdf7878",
   "metadata": {},
   "source": [
    "# Code 2 floating-point variables and divide them by each other."
   ]
  },
  {
   "cell_type": "code",
   "execution_count": 28,
   "id": "c4fdc08b-c219-48aa-94e2-b17c366b40e0",
   "metadata": {},
   "outputs": [],
   "source": [
    "c=1.23\n",
    "v=4.56"
   ]
  },
  {
   "cell_type": "code",
   "execution_count": 30,
   "id": "d9771995-b9c9-4e03-b781-7c4e7b6ad427",
   "metadata": {},
   "outputs": [
    {
     "data": {
      "text/plain": [
       "0.26973684210526316"
      ]
     },
     "execution_count": 30,
     "metadata": {},
     "output_type": "execute_result"
    }
   ],
   "source": [
    "c/v"
   ]
  },
  {
   "cell_type": "markdown",
   "id": "7534af65-6fde-404e-add3-5542cccacc0c",
   "metadata": {},
   "source": [
    "# Construct a short word made of separate strings (you’ll need to concatenate some strings!)."
   ]
  },
  {
   "cell_type": "code",
   "execution_count": 36,
   "id": "0774ebb1-1dd2-4112-9bcd-6ca5ffa1579f",
   "metadata": {},
   "outputs": [],
   "source": [
    "l='snow'\n",
    "k='man'"
   ]
  },
  {
   "cell_type": "code",
   "execution_count": 38,
   "id": "adc907c8-c5b9-4550-888e-c10069cdf7f4",
   "metadata": {},
   "outputs": [
    {
     "data": {
      "text/plain": [
       "'snowman'"
      ]
     },
     "execution_count": 38,
     "metadata": {},
     "output_type": "execute_result"
    }
   ],
   "source": [
    "l+k"
   ]
  },
  {
   "cell_type": "markdown",
   "id": "9d32be47-8999-4318-b067-40eafe247d01",
   "metadata": {},
   "source": [
    "# Construct 2 short sentences made of separate strings."
   ]
  },
  {
   "cell_type": "code",
   "execution_count": 32,
   "id": "7ab8a4e0-f882-4beb-9f96-8b2fbc919bd9",
   "metadata": {},
   "outputs": [],
   "source": [
    "b='Kimera '\n",
    "n='Rocks'\n",
    "m='!!!;)'"
   ]
  },
  {
   "cell_type": "code",
   "execution_count": 34,
   "id": "64b1bc19-9d41-4dad-a639-4a013e8837c9",
   "metadata": {},
   "outputs": [
    {
     "data": {
      "text/plain": [
       "'Kimera Rocks!!!;)'"
      ]
     },
     "execution_count": 34,
     "metadata": {},
     "output_type": "execute_result"
    }
   ],
   "source": [
    "b+n+m"
   ]
  },
  {
   "cell_type": "code",
   "execution_count": 43,
   "id": "773b00cc-b72b-4c31-8e69-906af1e8e5db",
   "metadata": {},
   "outputs": [],
   "source": [
    "j='the one and only, '\n",
    "h='master of disaster, '\n",
    "g='king of the ring'"
   ]
  },
  {
   "cell_type": "code",
   "execution_count": 45,
   "id": "f0a8bbe6-ed7a-464f-998c-a4dced77087a",
   "metadata": {},
   "outputs": [
    {
     "data": {
      "text/plain": [
       "'the one and only, master of disaster, king of the ring'"
      ]
     },
     "execution_count": 45,
     "metadata": {},
     "output_type": "execute_result"
    }
   ],
   "source": [
    "j+h+g"
   ]
  },
  {
   "cell_type": "markdown",
   "id": "e647b12f-d416-4a01-a799-c41d39d987a8",
   "metadata": {},
   "source": [
    "# Bonus Task\n",
    "\n",
    "# At the bottom of your file, include a command that makes a string appear 100 times."
   ]
  },
  {
   "cell_type": "code",
   "execution_count": 49,
   "id": "51611af2-732c-4b16-9aba-15ac47a58077",
   "metadata": {},
   "outputs": [
    {
     "data": {
      "text/plain": [
       "'the one and only, the one and only, the one and only, the one and only, the one and only, the one and only, the one and only, the one and only, the one and only, the one and only, the one and only, the one and only, the one and only, the one and only, the one and only, the one and only, the one and only, the one and only, the one and only, the one and only, the one and only, the one and only, the one and only, the one and only, the one and only, the one and only, the one and only, the one and only, the one and only, the one and only, the one and only, the one and only, the one and only, the one and only, the one and only, the one and only, the one and only, the one and only, the one and only, the one and only, the one and only, the one and only, the one and only, the one and only, the one and only, the one and only, the one and only, the one and only, the one and only, the one and only, the one and only, the one and only, the one and only, the one and only, the one and only, the one and only, the one and only, the one and only, the one and only, the one and only, the one and only, the one and only, the one and only, the one and only, the one and only, the one and only, the one and only, the one and only, the one and only, the one and only, the one and only, the one and only, the one and only, the one and only, the one and only, the one and only, the one and only, the one and only, the one and only, the one and only, the one and only, the one and only, the one and only, the one and only, the one and only, the one and only, the one and only, the one and only, the one and only, the one and only, the one and only, the one and only, the one and only, the one and only, the one and only, the one and only, the one and only, the one and only, the one and only, the one and only, '"
      ]
     },
     "execution_count": 49,
     "metadata": {},
     "output_type": "execute_result"
    }
   ],
   "source": [
    "j*100"
   ]
  },
  {
   "cell_type": "code",
   "execution_count": null,
   "id": "337f165a-70fe-4760-ae9e-89474a6076ac",
   "metadata": {},
   "outputs": [],
   "source": []
  }
 ],
 "metadata": {
  "kernelspec": {
   "display_name": "Python [conda env:base] *",
   "language": "python",
   "name": "conda-base-py"
  },
  "language_info": {
   "codemirror_mode": {
    "name": "ipython",
    "version": 3
   },
   "file_extension": ".py",
   "mimetype": "text/x-python",
   "name": "python",
   "nbconvert_exporter": "python",
   "pygments_lexer": "ipython3",
   "version": "3.12.7"
  }
 },
 "nbformat": 4,
 "nbformat_minor": 5
}
