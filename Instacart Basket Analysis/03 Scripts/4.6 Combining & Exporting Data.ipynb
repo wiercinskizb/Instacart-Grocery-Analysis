{
 "cells": [
  {
   "cell_type": "markdown",
   "id": "56e3d24c-d01b-4162-8560-173e64f93118",
   "metadata": {},
   "source": [
    "# Merging Your Instacart Data"
   ]
  },
  {
   "cell_type": "markdown",
   "id": "2c09d34c-071e-4157-b688-f3171a8f1ef3",
   "metadata": {},
   "source": [
    "## Basic Setup: Importing Libraries & files"
   ]
  },
  {
   "cell_type": "code",
   "execution_count": 5,
   "id": "f9d752cd-88f7-4438-9631-0ecd7d1e814f",
   "metadata": {},
   "outputs": [],
   "source": [
    "# Import libraries\n",
    "import pandas as pd\n",
    "import numpy as np\n",
    "import os"
   ]
  },
  {
   "cell_type": "code",
   "execution_count": 6,
   "id": "c65b7d2a-861b-4068-829d-040d3e39ffdc",
   "metadata": {},
   "outputs": [],
   "source": [
    "# Creating a path\n",
    "path = r'C:\\Users\\zwier\\anaconda_projects\\15-01-2025 Instacart Basket Analysis'"
   ]
  },
  {
   "cell_type": "code",
   "execution_count": 7,
   "id": "d02496cd-7475-41db-803f-09bc52db34f1",
   "metadata": {},
   "outputs": [],
   "source": [
    "# importing df_ords with os.path.join\n",
    "df_ords = pd.read_csv(os.path.join(path, '02 Data', 'Prepared Data', 'orders_checked.csv'), index_col = False)"
   ]
  },
  {
   "cell_type": "code",
   "execution_count": 8,
   "id": "572adb5b-ab7a-426d-a644-a0b4e0f97043",
   "metadata": {},
   "outputs": [],
   "source": [
    "# importing df_prods with os.path.join\n",
    "df_prods = pd.read_csv(os.path.join(path, '02 Data', 'Prepared Data', 'products_checked.csv'), index_col = False)"
   ]
  },
  {
   "cell_type": "code",
   "execution_count": 9,
   "id": "ae67d80a-4657-4409-8e8e-a8343adbea77",
   "metadata": {},
   "outputs": [],
   "source": [
    "# importing df_ords_prior with os.path.join\n",
    "df_ords_prior = pd.read_csv(os.path.join(path, '02 Data', 'Original Data', 'orders_products_prior.csv'), index_col = False)"
   ]
  },
  {
   "cell_type": "markdown",
   "id": "65ea89ef-21d1-439c-8cb3-ab56454eb808",
   "metadata": {},
   "source": [
    "### Check the dimensions of the imported dataframe."
   ]
  },
  {
   "cell_type": "code",
   "execution_count": 10,
   "id": "d21206fc-2d13-4836-b161-0f5faa0580e8",
   "metadata": {},
   "outputs": [
    {
     "data": {
      "text/plain": [
       "(32434489, 4)"
      ]
     },
     "execution_count": 10,
     "metadata": {},
     "output_type": "execute_result"
    }
   ],
   "source": [
    "# checking the shape of df_ords_prior\n",
    "df_ords_prior.shape"
   ]
  },
  {
   "cell_type": "code",
   "execution_count": 11,
   "id": "bf2c66d0-3ae4-401c-97bd-50b464403f8f",
   "metadata": {},
   "outputs": [
    {
     "data": {
      "text/plain": [
       "(3421083, 7)"
      ]
     },
     "execution_count": 11,
     "metadata": {},
     "output_type": "execute_result"
    }
   ],
   "source": [
    "# checking the shape of df_ords\n",
    "df_ords.shape"
   ]
  },
  {
   "cell_type": "code",
   "execution_count": 12,
   "id": "069a2299-ff13-48b6-a44a-144084e187ef",
   "metadata": {},
   "outputs": [
    {
     "data": {
      "text/html": [
       "<div>\n",
       "<style scoped>\n",
       "    .dataframe tbody tr th:only-of-type {\n",
       "        vertical-align: middle;\n",
       "    }\n",
       "\n",
       "    .dataframe tbody tr th {\n",
       "        vertical-align: top;\n",
       "    }\n",
       "\n",
       "    .dataframe thead th {\n",
       "        text-align: right;\n",
       "    }\n",
       "</style>\n",
       "<table border=\"1\" class=\"dataframe\">\n",
       "  <thead>\n",
       "    <tr style=\"text-align: right;\">\n",
       "      <th></th>\n",
       "      <th>Unnamed: 0</th>\n",
       "      <th>order_id</th>\n",
       "      <th>user_id</th>\n",
       "      <th>order_number</th>\n",
       "      <th>orders_day_of_week</th>\n",
       "      <th>order_hour_of_day</th>\n",
       "      <th>days_since_prior_order</th>\n",
       "    </tr>\n",
       "  </thead>\n",
       "  <tbody>\n",
       "    <tr>\n",
       "      <th>0</th>\n",
       "      <td>0</td>\n",
       "      <td>2539329</td>\n",
       "      <td>1</td>\n",
       "      <td>1</td>\n",
       "      <td>2</td>\n",
       "      <td>8</td>\n",
       "      <td>0.0</td>\n",
       "    </tr>\n",
       "    <tr>\n",
       "      <th>1</th>\n",
       "      <td>1</td>\n",
       "      <td>2398795</td>\n",
       "      <td>1</td>\n",
       "      <td>2</td>\n",
       "      <td>3</td>\n",
       "      <td>7</td>\n",
       "      <td>15.0</td>\n",
       "    </tr>\n",
       "    <tr>\n",
       "      <th>2</th>\n",
       "      <td>2</td>\n",
       "      <td>473747</td>\n",
       "      <td>1</td>\n",
       "      <td>3</td>\n",
       "      <td>3</td>\n",
       "      <td>12</td>\n",
       "      <td>21.0</td>\n",
       "    </tr>\n",
       "    <tr>\n",
       "      <th>3</th>\n",
       "      <td>3</td>\n",
       "      <td>2254736</td>\n",
       "      <td>1</td>\n",
       "      <td>4</td>\n",
       "      <td>4</td>\n",
       "      <td>7</td>\n",
       "      <td>29.0</td>\n",
       "    </tr>\n",
       "    <tr>\n",
       "      <th>4</th>\n",
       "      <td>4</td>\n",
       "      <td>431534</td>\n",
       "      <td>1</td>\n",
       "      <td>5</td>\n",
       "      <td>4</td>\n",
       "      <td>15</td>\n",
       "      <td>28.0</td>\n",
       "    </tr>\n",
       "  </tbody>\n",
       "</table>\n",
       "</div>"
      ],
      "text/plain": [
       "   Unnamed: 0  order_id  user_id  order_number  orders_day_of_week  \\\n",
       "0           0   2539329        1             1                   2   \n",
       "1           1   2398795        1             2                   3   \n",
       "2           2    473747        1             3                   3   \n",
       "3           3   2254736        1             4                   4   \n",
       "4           4    431534        1             5                   4   \n",
       "\n",
       "   order_hour_of_day  days_since_prior_order  \n",
       "0                  8                     0.0  \n",
       "1                  7                    15.0  \n",
       "2                 12                    21.0  \n",
       "3                  7                    29.0  \n",
       "4                 15                    28.0  "
      ]
     },
     "execution_count": 12,
     "metadata": {},
     "output_type": "execute_result"
    }
   ],
   "source": [
    "# checking df_ords\n",
    "df_ords.head()"
   ]
  },
  {
   "cell_type": "code",
   "execution_count": 13,
   "id": "0bdf9119-2488-45d7-9985-69d64f44f8d4",
   "metadata": {},
   "outputs": [
    {
     "data": {
      "text/html": [
       "<div>\n",
       "<style scoped>\n",
       "    .dataframe tbody tr th:only-of-type {\n",
       "        vertical-align: middle;\n",
       "    }\n",
       "\n",
       "    .dataframe tbody tr th {\n",
       "        vertical-align: top;\n",
       "    }\n",
       "\n",
       "    .dataframe thead th {\n",
       "        text-align: right;\n",
       "    }\n",
       "</style>\n",
       "<table border=\"1\" class=\"dataframe\">\n",
       "  <thead>\n",
       "    <tr style=\"text-align: right;\">\n",
       "      <th></th>\n",
       "      <th>order_id</th>\n",
       "      <th>product_id</th>\n",
       "      <th>add_to_cart_order</th>\n",
       "      <th>reordered</th>\n",
       "    </tr>\n",
       "  </thead>\n",
       "  <tbody>\n",
       "    <tr>\n",
       "      <th>0</th>\n",
       "      <td>2</td>\n",
       "      <td>33120</td>\n",
       "      <td>1</td>\n",
       "      <td>1</td>\n",
       "    </tr>\n",
       "    <tr>\n",
       "      <th>1</th>\n",
       "      <td>2</td>\n",
       "      <td>28985</td>\n",
       "      <td>2</td>\n",
       "      <td>1</td>\n",
       "    </tr>\n",
       "    <tr>\n",
       "      <th>2</th>\n",
       "      <td>2</td>\n",
       "      <td>9327</td>\n",
       "      <td>3</td>\n",
       "      <td>0</td>\n",
       "    </tr>\n",
       "    <tr>\n",
       "      <th>3</th>\n",
       "      <td>2</td>\n",
       "      <td>45918</td>\n",
       "      <td>4</td>\n",
       "      <td>1</td>\n",
       "    </tr>\n",
       "    <tr>\n",
       "      <th>4</th>\n",
       "      <td>2</td>\n",
       "      <td>30035</td>\n",
       "      <td>5</td>\n",
       "      <td>0</td>\n",
       "    </tr>\n",
       "  </tbody>\n",
       "</table>\n",
       "</div>"
      ],
      "text/plain": [
       "   order_id  product_id  add_to_cart_order  reordered\n",
       "0         2       33120                  1          1\n",
       "1         2       28985                  2          1\n",
       "2         2        9327                  3          0\n",
       "3         2       45918                  4          1\n",
       "4         2       30035                  5          0"
      ]
     },
     "execution_count": 13,
     "metadata": {},
     "output_type": "execute_result"
    }
   ],
   "source": [
    "# checking df_ords_prior\n",
    "df_ords_prior.head()"
   ]
  },
  {
   "cell_type": "code",
   "execution_count": 33,
   "id": "199628fa-7017-4d96-add8-debd5f6a87af",
   "metadata": {},
   "outputs": [],
   "source": [
    "# Cleaning columns\n",
    "df_ords = df_ords.drop(columns = ['Unnamed: 0'])"
   ]
  },
  {
   "cell_type": "markdown",
   "id": "c087fd27-2240-4613-8ccc-578b8ab68dbe",
   "metadata": {},
   "source": [
    "### Merge the dataframe with your df_ords dataframe."
   ]
  },
  {
   "cell_type": "code",
   "execution_count": 47,
   "id": "5613d25c-20d1-4b45-b634-32ea7ee39403",
   "metadata": {},
   "outputs": [],
   "source": [
    "# We are merging 2 df\n",
    "df_merged_large = df_ords.merge(df_ords_prior, on = 'order_id', how = 'outer' ,indicator = True)"
   ]
  },
  {
   "cell_type": "code",
   "execution_count": 48,
   "id": "9dca3534-cb26-4856-94db-f016f1ccc3f6",
   "metadata": {},
   "outputs": [
    {
     "data": {
      "text/html": [
       "<div>\n",
       "<style scoped>\n",
       "    .dataframe tbody tr th:only-of-type {\n",
       "        vertical-align: middle;\n",
       "    }\n",
       "\n",
       "    .dataframe tbody tr th {\n",
       "        vertical-align: top;\n",
       "    }\n",
       "\n",
       "    .dataframe thead th {\n",
       "        text-align: right;\n",
       "    }\n",
       "</style>\n",
       "<table border=\"1\" class=\"dataframe\">\n",
       "  <thead>\n",
       "    <tr style=\"text-align: right;\">\n",
       "      <th></th>\n",
       "      <th>order_id</th>\n",
       "      <th>user_id</th>\n",
       "      <th>order_number</th>\n",
       "      <th>orders_day_of_week</th>\n",
       "      <th>order_hour_of_day</th>\n",
       "      <th>days_since_prior_order</th>\n",
       "      <th>product_id</th>\n",
       "      <th>add_to_cart_order</th>\n",
       "      <th>reordered</th>\n",
       "      <th>_merge</th>\n",
       "    </tr>\n",
       "  </thead>\n",
       "  <tbody>\n",
       "    <tr>\n",
       "      <th>0</th>\n",
       "      <td>1</td>\n",
       "      <td>112108</td>\n",
       "      <td>4</td>\n",
       "      <td>4</td>\n",
       "      <td>10</td>\n",
       "      <td>9.0</td>\n",
       "      <td>NaN</td>\n",
       "      <td>NaN</td>\n",
       "      <td>NaN</td>\n",
       "      <td>left_only</td>\n",
       "    </tr>\n",
       "    <tr>\n",
       "      <th>1</th>\n",
       "      <td>2</td>\n",
       "      <td>202279</td>\n",
       "      <td>3</td>\n",
       "      <td>5</td>\n",
       "      <td>9</td>\n",
       "      <td>8.0</td>\n",
       "      <td>33120.0</td>\n",
       "      <td>1.0</td>\n",
       "      <td>1.0</td>\n",
       "      <td>both</td>\n",
       "    </tr>\n",
       "    <tr>\n",
       "      <th>2</th>\n",
       "      <td>2</td>\n",
       "      <td>202279</td>\n",
       "      <td>3</td>\n",
       "      <td>5</td>\n",
       "      <td>9</td>\n",
       "      <td>8.0</td>\n",
       "      <td>28985.0</td>\n",
       "      <td>2.0</td>\n",
       "      <td>1.0</td>\n",
       "      <td>both</td>\n",
       "    </tr>\n",
       "    <tr>\n",
       "      <th>3</th>\n",
       "      <td>2</td>\n",
       "      <td>202279</td>\n",
       "      <td>3</td>\n",
       "      <td>5</td>\n",
       "      <td>9</td>\n",
       "      <td>8.0</td>\n",
       "      <td>9327.0</td>\n",
       "      <td>3.0</td>\n",
       "      <td>0.0</td>\n",
       "      <td>both</td>\n",
       "    </tr>\n",
       "    <tr>\n",
       "      <th>4</th>\n",
       "      <td>2</td>\n",
       "      <td>202279</td>\n",
       "      <td>3</td>\n",
       "      <td>5</td>\n",
       "      <td>9</td>\n",
       "      <td>8.0</td>\n",
       "      <td>45918.0</td>\n",
       "      <td>4.0</td>\n",
       "      <td>1.0</td>\n",
       "      <td>both</td>\n",
       "    </tr>\n",
       "  </tbody>\n",
       "</table>\n",
       "</div>"
      ],
      "text/plain": [
       "   order_id  user_id  order_number  orders_day_of_week  order_hour_of_day  \\\n",
       "0         1   112108             4                   4                 10   \n",
       "1         2   202279             3                   5                  9   \n",
       "2         2   202279             3                   5                  9   \n",
       "3         2   202279             3                   5                  9   \n",
       "4         2   202279             3                   5                  9   \n",
       "\n",
       "   days_since_prior_order  product_id  add_to_cart_order  reordered     _merge  \n",
       "0                     9.0         NaN                NaN        NaN  left_only  \n",
       "1                     8.0     33120.0                1.0        1.0       both  \n",
       "2                     8.0     28985.0                2.0        1.0       both  \n",
       "3                     8.0      9327.0                3.0        0.0       both  \n",
       "4                     8.0     45918.0                4.0        1.0       both  "
      ]
     },
     "execution_count": 48,
     "metadata": {},
     "output_type": "execute_result"
    }
   ],
   "source": [
    "# Resulsts check\n",
    "df_merged_large.head()"
   ]
  },
  {
   "cell_type": "markdown",
   "id": "27fc8cc7-0513-4689-a916-fca05c414229",
   "metadata": {},
   "source": [
    "### Use the indicator argument to check whether there was a full match between the two dataframes."
   ]
  },
  {
   "cell_type": "code",
   "execution_count": 51,
   "id": "30716586-dadf-44c0-af9f-0c30e07f75e2",
   "metadata": {},
   "outputs": [
    {
     "data": {
      "text/plain": [
       "_merge\n",
       "both          32434489\n",
       "left_only       206209\n",
       "right_only           0\n",
       "Name: count, dtype: int64"
      ]
     },
     "execution_count": 51,
     "metadata": {},
     "output_type": "execute_result"
    }
   ],
   "source": [
    "# Double check - merge flag\n",
    "df_merged_large['_merge'].value_counts()"
   ]
  },
  {
   "cell_type": "code",
   "execution_count": 83,
   "id": "e9a1fb91-318d-4afa-a486-f168c61ad65b",
   "metadata": {},
   "outputs": [
    {
     "data": {
      "text/plain": [
       "(32640698, 10)"
      ]
     },
     "execution_count": 83,
     "metadata": {},
     "output_type": "execute_result"
    }
   ],
   "source": [
    "df_merged_large.shape"
   ]
  },
  {
   "cell_type": "markdown",
   "id": "52d1f660-7d80-413c-b013-143e4756b500",
   "metadata": {},
   "source": [
    "# Exporting Data in Pickle Format"
   ]
  },
  {
   "cell_type": "markdown",
   "id": "066d6369-35ca-49af-a78e-a39ead5e599a",
   "metadata": {},
   "source": [
    "### CSV Files"
   ]
  },
  {
   "cell_type": "code",
   "execution_count": 61,
   "id": "497222ed-a25f-459a-9dfa-56ac64fba644",
   "metadata": {},
   "outputs": [],
   "source": [
    "# Export data CSV\n",
    "# df_merged_large.to_csv(os.path.join(path, '02 Data','Prepared Data', 'orders_products_combined.csv'))"
   ]
  },
  {
   "cell_type": "code",
   "execution_count": null,
   "id": "f80ec085-0cb0-4ef5-89f0-96f7b2e9d912",
   "metadata": {},
   "outputs": [],
   "source": [
    "# importing df_merged_large - CSV\n",
    "# df_merged_large = pd.read_csv(os.path.join(path, '02 Data', 'Prepared Data', 'orders_products_combined.csv'), index_col = False)"
   ]
  },
  {
   "cell_type": "markdown",
   "id": "e89eb6d7-7003-43c2-85c6-215b4a150ac2",
   "metadata": {},
   "source": [
    "### PKL Files"
   ]
  },
  {
   "cell_type": "code",
   "execution_count": 69,
   "id": "5ad5fa8c-9c8e-45ea-b0d1-f17c9f5bba38",
   "metadata": {},
   "outputs": [],
   "source": [
    "# Export data to pkl\n",
    "# df_merged_large.to_pickle(os.path.join(path, '02 Data','Prepared Data', 'orders_products_combined.pkl'))"
   ]
  },
  {
   "cell_type": "code",
   "execution_count": 67,
   "id": "f2346dbf-8d2a-4dac-8fdb-5ca9834e3725",
   "metadata": {},
   "outputs": [],
   "source": [
    "# importing df_merged_large - PICKLE\n",
    "# df_merged_large = pd.read_pickle(os.path.join(path, '02 Data', 'Prepared Data', 'orders_products_combined.pkl'))"
   ]
  },
  {
   "cell_type": "code",
   "execution_count": null,
   "id": "7f3fbf67-4d69-4751-adca-cd81ddf5e512",
   "metadata": {},
   "outputs": [],
   "source": []
  }
 ],
 "metadata": {
  "kernelspec": {
   "display_name": "Python [conda env:base] *",
   "language": "python",
   "name": "conda-base-py"
  },
  "language_info": {
   "codemirror_mode": {
    "name": "ipython",
    "version": 3
   },
   "file_extension": ".py",
   "mimetype": "text/x-python",
   "name": "python",
   "nbconvert_exporter": "python",
   "pygments_lexer": "ipython3",
   "version": "3.12.7"
  }
 },
 "nbformat": 4,
 "nbformat_minor": 5
}
