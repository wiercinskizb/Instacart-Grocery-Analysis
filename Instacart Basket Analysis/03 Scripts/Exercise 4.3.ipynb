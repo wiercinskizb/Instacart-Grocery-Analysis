{
 "cells": [
  {
   "cell_type": "markdown",
   "id": "9de5f4ce-17d4-47fa-97f2-20684a3ad826",
   "metadata": {},
   "source": [
    "# Exercise 4.3"
   ]
  },
  {
   "cell_type": "code",
   "execution_count": 84,
   "id": "5dffbd6a-871b-477b-9220-4b5ed0e253a6",
   "metadata": {},
   "outputs": [],
   "source": [
    "# Import libraries\n",
    "import pandas as pd\n",
    "import numpy as np\n",
    "import os"
   ]
  },
  {
   "cell_type": "markdown",
   "id": "3d63f9fa-69af-4e5b-8f69-6d47de754cdc",
   "metadata": {},
   "source": [
    "# Import the “orders.csv” data set into your notebook using the os library and the vars_list shortcut, omitting the “eval_set” column in your final dataframe."
   ]
  },
  {
   "cell_type": "code",
   "execution_count": 86,
   "id": "0269ae46-4e3d-41ee-b5df-7c22cccbb621",
   "metadata": {},
   "outputs": [],
   "source": [
    "# Creating a path\n",
    "path = r'C:\\Users\\zwier\\anaconda_projects\\15-01-2025 Instacart Basket Analysis'"
   ]
  },
  {
   "cell_type": "code",
   "execution_count": 87,
   "id": "027a3b87-2ca0-446c-9d48-9e890bb715ec",
   "metadata": {},
   "outputs": [],
   "source": [
    "# importing df with os.path.join\n",
    "df = pd.read_csv(os.path.join(path, '02 Data', 'Original Data', 'orders.csv'), index_col = False)"
   ]
  },
  {
   "cell_type": "code",
   "execution_count": 88,
   "id": "b873110c-f3b4-4f70-8a0b-964a754d1452",
   "metadata": {},
   "outputs": [],
   "source": [
    "# unnecessary columns not icluded\n",
    "vars_list = ['order_id', 'user_id', 'order_number', 'order_dow', 'order_hour_of_day', 'days_since_prior_order']"
   ]
  },
  {
   "cell_type": "code",
   "execution_count": 89,
   "id": "f606cf83-d77d-4f94-a939-aaf4996da207",
   "metadata": {},
   "outputs": [],
   "source": [
    "# seting DF with the vars_list filter\n",
    "df = pd.read_csv(os.path.join(path, '02 Data', 'Original Data', 'orders.csv'), usecols = vars_list)"
   ]
  },
  {
   "cell_type": "markdown",
   "id": "3a8d66b2-e106-4d8d-a4a8-726cbc2faad8",
   "metadata": {},
   "source": [
    "# Print the first 5 rows of your dataframe."
   ]
  },
  {
   "cell_type": "code",
   "execution_count": 91,
   "id": "61819cc3-c193-4315-8c68-69122b1b020e",
   "metadata": {},
   "outputs": [
    {
     "name": "stdout",
     "output_type": "stream",
     "text": [
      "   order_id  user_id  order_number  order_dow  order_hour_of_day  \\\n",
      "0   2539329        1             1          2                  8   \n",
      "1   2398795        1             2          3                  7   \n",
      "2    473747        1             3          3                 12   \n",
      "3   2254736        1             4          4                  7   \n",
      "4    431534        1             5          4                 15   \n",
      "\n",
      "   days_since_prior_order  \n",
      "0                     NaN  \n",
      "1                    15.0  \n",
      "2                    21.0  \n",
      "3                    29.0  \n",
      "4                    28.0  \n"
     ]
    }
   ],
   "source": [
    "# start of dataframe\n",
    "print(df.head())"
   ]
  },
  {
   "cell_type": "markdown",
   "id": "bea63a2d-ec37-4fab-a000-11397bd5fc6a",
   "metadata": {},
   "source": [
    "# Import the “products.csv” file into Jupyter as df_prods"
   ]
  },
  {
   "cell_type": "code",
   "execution_count": 93,
   "id": "c14b2a29-5f26-4a4c-b716-1865f1169ffe",
   "metadata": {},
   "outputs": [],
   "source": [
    "# importing df_prods with os.path.join\n",
    "df_prods = pd.read_csv(os.path.join(path, '02 Data', 'Original Data', 'products.csv'), index_col = False)"
   ]
  },
  {
   "cell_type": "markdown",
   "id": "58db458f-96a8-4154-9ab7-72c847d5c3a9",
   "metadata": {},
   "source": [
    "# Print the first 20 rows and the last 35 rows of the df_prods dataframe"
   ]
  },
  {
   "cell_type": "code",
   "execution_count": 95,
   "id": "47e14d76-0f50-4f5a-aa8c-8430d8bf25b1",
   "metadata": {},
   "outputs": [
    {
     "name": "stdout",
     "output_type": "stream",
     "text": [
      "    product_id                                       product_name  aisle_id  \\\n",
      "0            1                         Chocolate Sandwich Cookies        61   \n",
      "1            2                                   All-Seasons Salt       104   \n",
      "2            3               Robust Golden Unsweetened Oolong Tea        94   \n",
      "3            4  Smart Ones Classic Favorites Mini Rigatoni Wit...        38   \n",
      "4            5                          Green Chile Anytime Sauce         5   \n",
      "5            6                                       Dry Nose Oil        11   \n",
      "6            7                     Pure Coconut Water With Orange        98   \n",
      "7            8                  Cut Russet Potatoes Steam N' Mash       116   \n",
      "8            9                  Light Strawberry Blueberry Yogurt       120   \n",
      "9           10     Sparkling Orange Juice & Prickly Pear Beverage       115   \n",
      "10          11                                  Peach Mango Juice        31   \n",
      "11          12                         Chocolate Fudge Layer Cake       119   \n",
      "12          13                                  Saline Nasal Mist        11   \n",
      "13          14                     Fresh Scent Dishwasher Cleaner        74   \n",
      "14          15                           Overnight Diapers Size 6        56   \n",
      "15          16                      Mint Chocolate Flavored Syrup       103   \n",
      "16          17                                  Rendered Duck Fat        35   \n",
      "17          18                Pizza for One Suprema  Frozen Pizza        79   \n",
      "18          19   Gluten Free Quinoa Three Cheese & Mushroom Blend        63   \n",
      "19          20     Pomegranate Cranberry & Aloe Vera Enrich Drink        98   \n",
      "\n",
      "    department_id  prices  \n",
      "0              19     5.8  \n",
      "1              13     9.3  \n",
      "2               7     4.5  \n",
      "3               1    10.5  \n",
      "4              13     4.3  \n",
      "5              11     2.6  \n",
      "6               7     4.4  \n",
      "7               1     1.1  \n",
      "8              16     7.0  \n",
      "9               7     8.4  \n",
      "10              7     2.8  \n",
      "11              1     9.4  \n",
      "12             11     1.1  \n",
      "13             17     6.5  \n",
      "14             18    11.2  \n",
      "15             19     5.2  \n",
      "16             12    17.1  \n",
      "17              1    10.6  \n",
      "18              9    12.0  \n",
      "19              7     6.0  \n"
     ]
    }
   ],
   "source": [
    "# first 20\n",
    "print(df_prods.head(20))"
   ]
  },
  {
   "cell_type": "code",
   "execution_count": 96,
   "id": "afe08c00-bbb5-41d3-9501-cf276df88218",
   "metadata": {},
   "outputs": [
    {
     "name": "stdout",
     "output_type": "stream",
     "text": [
      "       product_id                                       product_name  \\\n",
      "49658       49654                   Teriyaki Sauce, Sesame, Original   \n",
      "49659       49655                                        Apple Cider   \n",
      "49660       49656                         Masada Kosher Pocket Bread   \n",
      "49661       49657                                  Cabernet Tomatoes   \n",
      "49662       49658                         Brie with Herbs Foil Wedge   \n",
      "49663       49659                            Organic Creamed Coconut   \n",
      "49664       49660                        Professionals Sleek Shampoo   \n",
      "49665       49661                                              Porto   \n",
      "49666       49662                       Bacon Cheddar Pretzel Pieces   \n",
      "49667       49663  Ultra Protein Power Crunch Peanut Butter N' Ho...   \n",
      "49668       49664                     Lemon Cayenne Drinking Vinegar   \n",
      "49669       49665      Super Dark Coconut Ash & Banana Chocolate Bar   \n",
      "49670       49666                      Ginger Snaps Snacking Cookies   \n",
      "49671       49667           Enchilada with Spanish Rice & Beans Meal   \n",
      "49672       49668                     Apple Cinnamon Scented Candles   \n",
      "49673       49669                                   K Cup Dark Blend   \n",
      "49674       49670                                Beef Summer Sausage   \n",
      "49675       49671                               Milk Chocolate Drops   \n",
      "49676       49672                             Cafe Mocha K-Cup Packs   \n",
      "49677       49673              Stone Baked Multi Grain Artisan Rolls   \n",
      "49678       49674            Frozen Greek Yogurt Bars Chocolate Chip   \n",
      "49679       49675                Cinnamon Dolce Keurig Brewed K Cups   \n",
      "49680       49676                             Ultra Red Energy Drink   \n",
      "49681       49677                    Thick & Chunky Sloppy Joe Sauce   \n",
      "49682       49678                    Large Chicken & Cheese Taquitos   \n",
      "49683       49679                            Famous Chocolate Wafers   \n",
      "49684       49680                 All Natural Creamy Caesar Dressing   \n",
      "49685       49681            Spaghetti with Meatballs and Sauce Meal   \n",
      "49686       49682                                 California Limeade   \n",
      "49687       49683                                     Cucumber Kirby   \n",
      "49688       49684          Vodka, Triple Distilled, Twist of Vanilla   \n",
      "49689       49685                 En Croute Roast Hazelnut Cranberry   \n",
      "49690       49686                                   Artisan Baguette   \n",
      "49691       49687         Smartblend Healthy Metabolism Dry Cat Food   \n",
      "49692       49688                             Fresh Foaming Cleanser   \n",
      "\n",
      "       aisle_id  department_id  prices  \n",
      "49658         5             13     4.0  \n",
      "49659        98              7    10.7  \n",
      "49660       128              3     7.1  \n",
      "49661        83              4     8.3  \n",
      "49662         2             16     3.9  \n",
      "49663        17             13     3.1  \n",
      "49664        22             11     6.7  \n",
      "49665       134              5     8.2  \n",
      "49666       107             19     3.6  \n",
      "49667        57             14    10.2  \n",
      "49668       100             21    13.7  \n",
      "49669        45             19     6.9  \n",
      "49670        61             19     5.2  \n",
      "49671        38              1     6.6  \n",
      "49672       101             17     5.6  \n",
      "49673       100             21     4.7  \n",
      "49674       106             12    19.2  \n",
      "49675        45             19     3.0  \n",
      "49676        26              7     6.5  \n",
      "49677       129              1     5.6  \n",
      "49678        37              1    11.1  \n",
      "49679        26              7    14.0  \n",
      "49680        64              7    14.5  \n",
      "49681        59             15     8.9  \n",
      "49682       129              1     3.4  \n",
      "49683        61             19     6.0  \n",
      "49684        89             13     4.9  \n",
      "49685        38              1     6.9  \n",
      "49686        98              7     4.3  \n",
      "49687        83              4    13.2  \n",
      "49688       124              5     5.3  \n",
      "49689        42              1     3.1  \n",
      "49690       112              3     7.8  \n",
      "49691        41              8     4.7  \n",
      "49692        73             11    13.5  \n"
     ]
    }
   ],
   "source": [
    "# last 35\n",
    "print(df_prods.tail(35))"
   ]
  },
  {
   "cell_type": "markdown",
   "id": "cfc56e06-6151-469f-9466-8921c486244e",
   "metadata": {},
   "source": [
    "# Print the names of the columns in the df_prods dataframe"
   ]
  },
  {
   "cell_type": "code",
   "execution_count": 98,
   "id": "2bcc3d2c-128c-4cff-97f4-04dee23e48b2",
   "metadata": {},
   "outputs": [
    {
     "name": "stdout",
     "output_type": "stream",
     "text": [
      "Index(['product_id', 'product_name', 'aisle_id', 'department_id', 'prices'], dtype='object')\n"
     ]
    }
   ],
   "source": [
    "#  titles of columns\n",
    "print(df_prods.columns)"
   ]
  },
  {
   "cell_type": "markdown",
   "id": "a921dd72-8034-4f4c-8d1e-9d46d8124a7a",
   "metadata": {},
   "source": [
    "# Print the number of rows and columns in the df_prods dataframe"
   ]
  },
  {
   "cell_type": "code",
   "execution_count": 100,
   "id": "f99286dc-c32b-409c-80a4-475d468b7c8e",
   "metadata": {},
   "outputs": [
    {
     "name": "stdout",
     "output_type": "stream",
     "text": [
      "(49693, 5)\n"
     ]
    }
   ],
   "source": [
    "# dimensions\n",
    "print(df_prods.shape)"
   ]
  },
  {
   "cell_type": "markdown",
   "id": "1e9d542b-d749-40a0-814a-f729bee86ea8",
   "metadata": {},
   "source": [
    "# What’s the maximum value of the “aisle_id” column?"
   ]
  },
  {
   "cell_type": "code",
   "execution_count": 102,
   "id": "6e5b9ca8-dc28-4891-b2bf-69485faafea7",
   "metadata": {},
   "outputs": [
    {
     "name": "stdout",
     "output_type": "stream",
     "text": [
      "         product_id      aisle_id  department_id        prices\n",
      "count  49693.000000  49693.000000   49693.000000  49693.000000\n",
      "mean   24844.345139     67.770249      11.728433      9.994136\n",
      "std    14343.717401     38.316774       5.850282    453.519686\n",
      "min        1.000000      1.000000       1.000000      1.000000\n",
      "25%    12423.000000     35.000000       7.000000      4.100000\n",
      "50%    24845.000000     69.000000      13.000000      7.100000\n",
      "75%    37265.000000    100.000000      17.000000     11.200000\n",
      "max    49688.000000    134.000000      21.000000  99999.000000\n"
     ]
    }
   ],
   "source": [
    "# descriptive statistics\n",
    "print(df_prods.describe())"
   ]
  },
  {
   "cell_type": "markdown",
   "id": "a3ab23e9-c69e-4eb5-b8da-6a41d2c45a43",
   "metadata": {},
   "source": [
    "# 134"
   ]
  },
  {
   "cell_type": "markdown",
   "id": "f6911276-6b16-4151-b266-9f3d9929b32c",
   "metadata": {},
   "source": [
    "# What’s the data type of the “department_id” column?"
   ]
  },
  {
   "cell_type": "code",
   "execution_count": 105,
   "id": "8e4e4668-6430-47b9-ae56-b6799af4101c",
   "metadata": {},
   "outputs": [
    {
     "name": "stdout",
     "output_type": "stream",
     "text": [
      "product_id         int64\n",
      "product_name      object\n",
      "aisle_id           int64\n",
      "department_id      int64\n",
      "prices           float64\n",
      "dtype: object\n"
     ]
    }
   ],
   "source": [
    "# data types\n",
    "print(df_prods.dtypes)"
   ]
  },
  {
   "cell_type": "code",
   "execution_count": 106,
   "id": "b961bd34-9cdc-455b-a275-bf436a479381",
   "metadata": {},
   "outputs": [
    {
     "name": "stdout",
     "output_type": "stream",
     "text": [
      "<class 'pandas.core.frame.DataFrame'>\n",
      "RangeIndex: 49693 entries, 0 to 49692\n",
      "Data columns (total 5 columns):\n",
      " #   Column         Non-Null Count  Dtype  \n",
      "---  ------         --------------  -----  \n",
      " 0   product_id     49693 non-null  int64  \n",
      " 1   product_name   49677 non-null  object \n",
      " 2   aisle_id       49693 non-null  int64  \n",
      " 3   department_id  49693 non-null  int64  \n",
      " 4   prices         49693 non-null  float64\n",
      "dtypes: float64(1), int64(3), object(1)\n",
      "memory usage: 1.9+ MB\n",
      "None\n"
     ]
    }
   ],
   "source": [
    "# basic information\n",
    "print(df_prods.info())"
   ]
  },
  {
   "cell_type": "markdown",
   "id": "3afcacb9-3ca4-48a5-9204-adbfc5276b76",
   "metadata": {},
   "source": [
    "# int64"
   ]
  }
 ],
 "metadata": {
  "kernelspec": {
   "display_name": "Python [conda env:base] *",
   "language": "python",
   "name": "conda-base-py"
  },
  "language_info": {
   "codemirror_mode": {
    "name": "ipython",
    "version": 3
   },
   "file_extension": ".py",
   "mimetype": "text/x-python",
   "name": "python",
   "nbconvert_exporter": "python",
   "pygments_lexer": "ipython3",
   "version": "3.12.7"
  }
 },
 "nbformat": 4,
 "nbformat_minor": 5
}
