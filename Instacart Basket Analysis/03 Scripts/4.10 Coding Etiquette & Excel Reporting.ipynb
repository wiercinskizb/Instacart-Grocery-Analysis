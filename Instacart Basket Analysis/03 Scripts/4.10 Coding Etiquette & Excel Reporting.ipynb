{
 "cells": [
  {
   "cell_type": "markdown",
   "id": "530d1e82-143e-459a-b196-4e919ff5ab30",
   "metadata": {},
   "source": [
    "# 4.10: Coding Etiquette & Excel Reporting"
   ]
  },
  {
   "cell_type": "markdown",
   "id": "9547ec70-c076-471b-98a6-ef7dd047944d",
   "metadata": {},
   "source": [
    "## Coding Best Practices"
   ]
  },
  {
   "cell_type": "markdown",
   "id": "5e11de5e-0e70-45ec-b65b-f97d36a4aede",
   "metadata": {},
   "source": [
    "## Maintaining Clean and Concise Scripts\n",
    "#### 1. Before starting your analysis, think of a clear, self-explanatory title for your notebook. It could start with an abbreviation of the project name, a number that corresponds to the step you’re executing, and a name for that step. For example, if you were tasked with conducting consistency checks on your Instacart data, you could have two scripts with titles such as “1. IC Duplicates checks” and “2. IC Missing values checks.”\n",
    "#### 2. Write descriptive comments alongside your code. It’s much easier to do this during the writing process than it is trying to add them in later. Remember that you can write comments via the pound sign (#).\n",
    "#### 3. Create headings that describe what step or steps are being executed in each section of code.\n",
    "#### 4. Once you’re sure about the final result, go through your script, delete any unnecessary cells, and adjust section headings as needed.\n",
    "#### 5. Create a list of contents in a markdown cell just under the main heading of your notebook."
   ]
  },
  {
   "cell_type": "markdown",
   "id": "5a4e0d6c-6401-4af3-91e8-c7a04ad2eb90",
   "metadata": {},
   "source": [
    "## Avoiding the Overwrite"
   ]
  },
  {
   "cell_type": "markdown",
   "id": "e5359784-659b-4f6a-89ec-3736fea00b4a",
   "metadata": {},
   "source": [
    "## Storing Useful Resources"
   ]
  },
  {
   "cell_type": "markdown",
   "id": "060d9bf5-375a-469b-8b1a-2e72ebf224eb",
   "metadata": {},
   "source": [
    "## Raindrop\n",
    "https://raindrop.io/"
   ]
  },
  {
   "cell_type": "markdown",
   "id": "3aa1e9cd-fad2-4df5-805c-81ac708847b4",
   "metadata": {},
   "source": [
    "## Jupyter Tips and Tricks"
   ]
  },
  {
   "cell_type": "markdown",
   "id": "5b298dae-2cd6-4dc6-99dc-fcc535dae299",
   "metadata": {},
   "source": [
    "## Using Excel with Python"
   ]
  },
  {
   "cell_type": "markdown",
   "id": "668d79c0-60ff-4242-bf4d-7a1e390d4527",
   "metadata": {},
   "source": [
    "### Crosstabs in Python"
   ]
  },
  {
   "cell_type": "code",
   "execution_count": 7,
   "id": "4daa26ff-47c7-48b8-a4b5-7370a96d7b2e",
   "metadata": {},
   "outputs": [],
   "source": [
    "# Import Libraries\n",
    "\n",
    "import pandas as pd\n",
    "import numpy as np\n",
    "import os\n",
    "import matplotlib.pyplot as plt\n",
    "import seaborn as sns\n",
    "import scipy"
   ]
  },
  {
   "cell_type": "code",
   "execution_count": 9,
   "id": "271464dc-b247-4d03-9a43-0b6466b3a401",
   "metadata": {},
   "outputs": [],
   "source": [
    "# Creating a path\n",
    "path = r'C:\\Users\\zwier\\anaconda_projects\\15-01-2025 Instacart Basket Analysis'"
   ]
  },
  {
   "cell_type": "code",
   "execution_count": 11,
   "id": "bad7337e-ef2f-4610-9226-553c0264b209",
   "metadata": {},
   "outputs": [],
   "source": [
    "# importing df\n",
    "instacart_merged = pd.read_pickle(os.path.join(path, '02 Data','Prepared Data', 'instacart_merged.pkl'))"
   ]
  },
  {
   "cell_type": "code",
   "execution_count": 12,
   "id": "942946c9-64ea-48b0-9653-b40e7ea0b494",
   "metadata": {},
   "outputs": [],
   "source": [
    "# Creating a Crosstab\n",
    "crosstab = pd.crosstab(instacart_merged['days_since_prior_order'], instacart_merged['order_number'], dropna = False)"
   ]
  },
  {
   "cell_type": "code",
   "execution_count": 33,
   "id": "19822648-9bd1-4c21-b8f7-824d61eee80c",
   "metadata": {},
   "outputs": [],
   "source": [
    "# Creating Clipboard - Just Paste in Excel arter running the code\n",
    "crosstab.to_clipboard()"
   ]
  },
  {
   "cell_type": "code",
   "execution_count": null,
   "id": "669924b7-6e47-4dc9-a583-eef54840f179",
   "metadata": {},
   "outputs": [],
   "source": []
  }
 ],
 "metadata": {
  "kernelspec": {
   "display_name": "Python [conda env:base] *",
   "language": "python",
   "name": "conda-base-py"
  },
  "language_info": {
   "codemirror_mode": {
    "name": "ipython",
    "version": 3
   },
   "file_extension": ".py",
   "mimetype": "text/x-python",
   "name": "python",
   "nbconvert_exporter": "python",
   "pygments_lexer": "ipython3",
   "version": "3.12.7"
  }
 },
 "nbformat": 4,
 "nbformat_minor": 5
}
